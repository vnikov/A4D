{
 "cells": [
  {
   "cell_type": "markdown",
   "metadata": {},
   "source": [
    "# Binary Search"
   ]
  },
  {
   "cell_type": "code",
   "execution_count": 1,
   "metadata": {
    "collapsed": false
   },
   "outputs": [
    {
     "name": "stdout",
     "output_type": "stream",
     "text": [
      "Searching midpoint at  11\n",
      "searchList now contains  [1, 2, 3, 4, 5, 6, 7, 8, 9, 10]\n",
      "Searching midpoint at  6\n",
      "searchList now contains  [1, 2, 3, 4, 5]\n",
      "Searching midpoint at  3\n",
      "searchList now contains  [3, 4, 5]\n",
      "Searching midpoint at  4\n",
      "searchList now contains  [4, 5]\n",
      "Searching midpoint at  5\n",
      "Key Found!\n"
     ]
    }
   ],
   "source": [
    "def search(searchList, key):\n",
    "    mid = int(len(searchList) / 2)\n",
    "    print(\"Searching midpoint at \", str(searchList[mid]))\n",
    "    \n",
    "    if mid == 0:\n",
    "        print(\"Key Not Found!\")\n",
    "        return key\n",
    "    \n",
    "    elif key == searchList[mid]:\n",
    "        print(\"Key Found!\")\n",
    "        return searchList[mid]\n",
    "    \n",
    "    elif key > searchList[mid]:\n",
    "        print(\"searchList now contains \", \n",
    "              searchList[mid:len(searchList)])\n",
    "        search(searchList[mid:len(searchList)], key)\n",
    "        \n",
    "    else:\n",
    "        print(\"searchList now contains \", \n",
    "              searchList[0:mid])\n",
    "        search(searchList[0:mid], key)\n",
    "\n",
    "aList = list(range(1, 21))\n",
    "search(aList, 5)"
   ]
  }
 ],
 "metadata": {
  "anaconda-cloud": {},
  "kernelspec": {
   "display_name": "Python [default]",
   "language": "python",
   "name": "python3"
  },
  "language_info": {
   "codemirror_mode": {
    "name": "ipython",
    "version": 3
   },
   "file_extension": ".py",
   "mimetype": "text/x-python",
   "name": "python",
   "nbconvert_exporter": "python",
   "pygments_lexer": "ipython3",
   "version": "3.4.5"
  }
 },
 "nbformat": 4,
 "nbformat_minor": 1
}
