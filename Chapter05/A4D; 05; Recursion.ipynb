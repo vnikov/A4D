{
 "cells": [
  {
   "cell_type": "markdown",
   "metadata": {},
   "source": [
    "# Factorial Calculation"
   ]
  },
  {
   "cell_type": "code",
   "execution_count": 1,
   "metadata": {
    "collapsed": false
   },
   "outputs": [
    {
     "name": "stdout",
     "output_type": "stream",
     "text": [
      "factorial called with n =  5\n",
      "factorial called with n =  4\n",
      "factorial called with n =  3\n",
      "factorial called with n =  2\n",
      "factorial called with n =  1\n",
      "Ending condition met.\n",
      "120\n"
     ]
    }
   ],
   "source": [
    "def factorial(n):\n",
    "    print(\"factorial called with n = \", str(n))\n",
    "    if n == 1 or n == 0:\n",
    "        print(\"Ending condition met.\")\n",
    "        return 1\n",
    "    else:\n",
    "        return n * factorial(n-1)\n",
    "\n",
    "print(factorial(5))"
   ]
  },
  {
   "cell_type": "markdown",
   "metadata": {},
   "source": [
    "# Factorial Calculation Using Continuation Condition"
   ]
  },
  {
   "cell_type": "code",
   "execution_count": 2,
   "metadata": {
    "collapsed": false
   },
   "outputs": [
    {
     "name": "stdout",
     "output_type": "stream",
     "text": [
      "factorial called with n =  5\n",
      "factorial called with n =  4\n",
      "factorial called with n =  3\n",
      "factorial called with n =  2\n",
      "factorial called with n =  1\n",
      "Ending condition met.\n",
      "120\n"
     ]
    }
   ],
   "source": [
    "def factorial(n):\n",
    "    print(\"factorial called with n = \", str(n))\n",
    "    if n > 1:\n",
    "        return n * factorial(n-1)\n",
    "    print(\"Ending condition met.\")\n",
    "    return 1\n",
    "\n",
    "print(factorial(5))   "
   ]
  },
  {
   "cell_type": "markdown",
   "metadata": {},
   "source": [
    "# Tail Recursion Elimination"
   ]
  },
  {
   "cell_type": "code",
   "execution_count": 3,
   "metadata": {
    "collapsed": false
   },
   "outputs": [
    {
     "name": "stdout",
     "output_type": "stream",
     "text": [
      "factorial called with n =  5\n",
      "Current value of n is  4\n",
      "Current value of n is  3\n",
      "Current value of n is  2\n",
      "Current value of n is  1\n",
      "Ending condition met.\n",
      "120\n"
     ]
    }
   ],
   "source": [
    "def factorial(n):\n",
    "    print(\"factorial called with n = \", str(n))\n",
    "    result = 1\n",
    "    while n > 1:\n",
    "        result = result * n\n",
    "        n = n - 1\n",
    "        print(\"Current value of n is \", str(n))\n",
    "    print(\"Ending condition met.\")\n",
    "    return result\n",
    "\n",
    "print(factorial(5))"
   ]
  }
 ],
 "metadata": {
  "anaconda-cloud": {},
  "kernelspec": {
   "display_name": "Python [default]",
   "language": "python",
   "name": "python3"
  },
  "language_info": {
   "codemirror_mode": {
    "name": "ipython",
    "version": 3
   },
   "file_extension": ".py",
   "mimetype": "text/x-python",
   "name": "python",
   "nbconvert_exporter": "python",
   "pygments_lexer": "ipython3",
   "version": "3.4.5"
  }
 },
 "nbformat": 4,
 "nbformat_minor": 1
}
