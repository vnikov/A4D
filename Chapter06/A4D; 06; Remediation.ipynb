{
 "cells": [
  {
   "cell_type": "markdown",
   "metadata": {},
   "source": [
    "# Data Duplication"
   ]
  },
  {
   "cell_type": "code",
   "execution_count": 1,
   "metadata": {
    "collapsed": false
   },
   "outputs": [
    {
     "name": "stdout",
     "output_type": "stream",
     "text": [
      "   A  B  C\n",
      "0  0  0  0\n",
      "1  0  2  3\n",
      "2  0  3  4\n",
      "3  0  5  1\n",
      "4  0  0  0\n",
      "5  1  2  2\n",
      "6  0  0  0 \n",
      "\n",
      "   A  B  C\n",
      "0  0  0  0\n",
      "1  0  2  3\n",
      "2  0  3  4\n",
      "3  0  5  1\n",
      "5  1  2  2\n"
     ]
    }
   ],
   "source": [
    "import pandas as pd\n",
    "\n",
    "df = pd.DataFrame({'A': [0,0,0,0,0,1,0],\n",
    "                   'B': [0,2,3,5,0,2,0],\n",
    "                   'C': [0,3,4,1,0,2,0]})\n",
    "print(df, \"\\n\")\n",
    "\n",
    "df = df.drop_duplicates()\n",
    "print(df)"
   ]
  },
  {
   "cell_type": "markdown",
   "metadata": {},
   "source": [
    "# Missing Values"
   ]
  },
  {
   "cell_type": "code",
   "execution_count": 2,
   "metadata": {
    "collapsed": false
   },
   "outputs": [
    {
     "name": "stdout",
     "output_type": "stream",
     "text": [
      "      A  B    C\n",
      "0     0  1  NaN\n",
      "1     0  2    3\n",
      "2     1  3    4\n",
      "3  None  4    1 \n",
      "\n",
      "A    0\n",
      "B    2\n",
      "C    2\n",
      "dtype: int32 \n",
      "\n",
      "   A  B  C\n",
      "0  0  1  2\n",
      "1  0  2  3\n",
      "2  1  3  4\n",
      "3  0  4  1\n"
     ]
    }
   ],
   "source": [
    "import pandas as pd\n",
    "import numpy as np\n",
    "\n",
    "df = pd.DataFrame({'A': [0,0,1,None],\n",
    "                   'B': [1,2,3,4],\n",
    "                   'C': [np.NAN,3,4,1]},\n",
    "                 dtype=int)\n",
    "print(df, \"\\n\")\n",
    "\n",
    "values = pd.Series(df.mean(), dtype=int)\n",
    "print(values, \"\\n\")\n",
    "\n",
    "df = df.fillna(values)\n",
    "print(df)\n"
   ]
  }
 ],
 "metadata": {
  "anaconda-cloud": {},
  "kernelspec": {
   "display_name": "Python [default]",
   "language": "python",
   "name": "python3"
  },
  "language_info": {
   "codemirror_mode": {
    "name": "ipython",
    "version": 3
   },
   "file_extension": ".py",
   "mimetype": "text/x-python",
   "name": "python",
   "nbconvert_exporter": "python",
   "pygments_lexer": "ipython3",
   "version": "3.4.5"
  }
 },
 "nbformat": 4,
 "nbformat_minor": 1
}
