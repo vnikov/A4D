{
 "cells": [
  {
   "cell_type": "markdown",
   "metadata": {},
   "source": [
    "# Tree Class"
   ]
  },
  {
   "cell_type": "code",
   "execution_count": 1,
   "metadata": {
    "collapsed": true
   },
   "outputs": [],
   "source": [
    "class binaryTree:\n",
    "    def __init__(self, nodeData, left=None, right=None):\n",
    "        self.nodeData = nodeData\n",
    "        self.left  = left\n",
    "        self.right = right\n",
    "\n",
    "    def __str__(self):\n",
    "        return str(self.nodeData)"
   ]
  },
  {
   "cell_type": "markdown",
   "metadata": {},
   "source": [
    "# Building the Tree"
   ]
  },
  {
   "cell_type": "code",
   "execution_count": 2,
   "metadata": {
    "collapsed": true
   },
   "outputs": [],
   "source": [
    "tree = binaryTree(\"Root\")\n",
    "BranchA = binaryTree(\"Branch A\")\n",
    "BranchB = binaryTree(\"Branch B\")\n",
    "tree.left = BranchA\n",
    "tree.right = BranchB\n",
    "\n",
    "LeafC = binaryTree(\"Leaf C\")\n",
    "LeafD = binaryTree(\"Leaf D\")\n",
    "LeafE = binaryTree(\"Leaf E\")\n",
    "LeafF = binaryTree(\"Leaf F\")\n",
    "BranchA.left = LeafC\n",
    "BranchA.right = LeafD\n",
    "BranchB.left = LeafE\n",
    "BranchB.right = LeafF"
   ]
  },
  {
   "cell_type": "markdown",
   "metadata": {},
   "source": [
    "# Traversing the Tree"
   ]
  },
  {
   "cell_type": "code",
   "execution_count": 3,
   "metadata": {
    "collapsed": false
   },
   "outputs": [
    {
     "name": "stdout",
     "output_type": "stream",
     "text": [
      "Leaf C\n",
      "Leaf D\n",
      "Branch A\n",
      "Leaf E\n",
      "Leaf F\n",
      "Branch B\n",
      "Root\n"
     ]
    }
   ],
   "source": [
    "def traverse(tree):\n",
    "    if tree.left != None:\n",
    "        traverse(tree.left)\n",
    "    if tree.right != None:\n",
    "        traverse(tree.right)\n",
    "    print(tree.nodeData)\n",
    "    \n",
    "traverse(tree)"
   ]
  }
 ],
 "metadata": {
  "anaconda-cloud": {},
  "kernelspec": {
   "display_name": "Python [default]",
   "language": "python",
   "name": "python3"
  },
  "language_info": {
   "codemirror_mode": {
    "name": "ipython",
    "version": 3
   },
   "file_extension": ".py",
   "mimetype": "text/x-python",
   "name": "python",
   "nbconvert_exporter": "python",
   "pygments_lexer": "ipython3",
   "version": "3.4.5"
  }
 },
 "nbformat": 4,
 "nbformat_minor": 1
}
