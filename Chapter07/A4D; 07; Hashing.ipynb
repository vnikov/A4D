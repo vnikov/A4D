{
 "cells": [
  {
   "cell_type": "markdown",
   "metadata": {},
   "source": [
    "# Hashing"
   ]
  },
  {
   "cell_type": "code",
   "execution_count": 1,
   "metadata": {
    "collapsed": false
   },
   "outputs": [
    {
     "name": "stdout",
     "output_type": "stream",
     "text": [
      "[105, 31, None, None, None, 5, 6, 22, 23, None, 40, None, 102, None, None]\n"
     ]
    }
   ],
   "source": [
    "data = [22, 40, 102, 105, 23, 31, 6, 5]\n",
    "hash_table = [None] * 15\n",
    "tblLen = len(hash_table)\n",
    "\n",
    "def hash_function(value, table_size):\n",
    "    return value % table_size\n",
    "\n",
    "for value in data:\n",
    "    hash_table[hash_function(value, tblLen)] = value\n",
    "\n",
    "print(hash_table)"
   ]
  },
  {
   "cell_type": "code",
   "execution_count": 2,
   "metadata": {
    "collapsed": false
   },
   "outputs": [
    {
     "name": "stdout",
     "output_type": "stream",
     "text": [
      "102\n"
     ]
    }
   ],
   "source": [
    "print(hash_table[hash_function(102, tblLen)])"
   ]
  },
  {
   "cell_type": "markdown",
   "metadata": {
    "collapsed": true
   },
   "source": [
    "## Creating your own hash function"
   ]
  },
  {
   "cell_type": "code",
   "execution_count": 3,
   "metadata": {
    "collapsed": true
   },
   "outputs": [],
   "source": [
    "from hashlib import md5, sha1\n",
    "\n",
    "def hash_f(element, i, length):\n",
    "    \"\"\" Function to create many hash functions \"\"\"\n",
    "    h1 = int(md5(element.encode('ascii')).hexdigest(),16)\n",
    "    h2 = int(sha1(element.encode('ascii')).hexdigest(),16)\n",
    "    return (h1 + i*h2) % length"
   ]
  },
  {
   "cell_type": "code",
   "execution_count": 4,
   "metadata": {
    "collapsed": false
   },
   "outputs": [
    {
     "name": "stdout",
     "output_type": "stream",
     "text": [
      "64018\n"
     ]
    }
   ],
   "source": [
    "print (hash_f(\"CAT\", 1, 10**5))"
   ]
  },
  {
   "cell_type": "code",
   "execution_count": 5,
   "metadata": {
    "collapsed": false
   },
   "outputs": [
    {
     "name": "stdout",
     "output_type": "stream",
     "text": [
      "43738\n"
     ]
    }
   ],
   "source": [
    "print (hash_f(\"CAT\", 2, 10**5))"
   ]
  }
 ],
 "metadata": {
  "anaconda-cloud": {},
  "kernelspec": {
   "display_name": "Python [default]",
   "language": "python",
   "name": "python3"
  },
  "language_info": {
   "codemirror_mode": {
    "name": "ipython",
    "version": 3
   },
   "file_extension": ".py",
   "mimetype": "text/x-python",
   "name": "python",
   "nbconvert_exporter": "python",
   "pygments_lexer": "ipython3",
   "version": "3.5.2"
  }
 },
 "nbformat": 4,
 "nbformat_minor": 1
}
