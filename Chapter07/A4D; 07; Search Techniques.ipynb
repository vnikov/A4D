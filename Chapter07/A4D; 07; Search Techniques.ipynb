{
 "cells": [
  {
   "cell_type": "markdown",
   "metadata": {},
   "source": [
    "# Binary Search Tree"
   ]
  },
  {
   "cell_type": "code",
   "execution_count": 1,
   "metadata": {
    "collapsed": false
   },
   "outputs": [
    {
     "name": "stdout",
     "output_type": "stream",
     "text": [
      "Key:  0 Value:  Magenta\n",
      "Key:  1 Value:  Green\n",
      "Key:  2 Value:  Red\n",
      "Key:  3 Value:  White\n",
      "Key:  4 Value:  Yellow\n",
      "Key:  5 Value:  Orange\n",
      "Key:  6 Value:  Teal\n",
      "Key:  7 Value:  Purple\n",
      "Item 3 contains:  White\n",
      "The maximum item is:  (7, 'Purple')\n"
     ]
    }
   ],
   "source": [
    "from bintrees import BinaryTree\n",
    "\n",
    "data = {3:'White', 2:'Red', 1:'Green', 5:'Orange', \n",
    "        4:'Yellow', 7:'Purple', 0:'Magenta'}\n",
    "\n",
    "tree = BinaryTree(data)\n",
    "tree.update({6:'Teal'})\n",
    "\n",
    "def displayKeyValue(key, value):\n",
    "    print('Key: ', key, 'Value: ', value)\n",
    "    \n",
    "tree.foreach(displayKeyValue)\n",
    "print('Item 3 contains: ', tree.get(3))\n",
    "print('The maximum item is: ', tree.max_item())"
   ]
  },
  {
   "cell_type": "markdown",
   "metadata": {},
   "source": [
    "# Binary Heap"
   ]
  },
  {
   "cell_type": "code",
   "execution_count": 2,
   "metadata": {
    "collapsed": false
   },
   "outputs": [
    {
     "name": "stdout",
     "output_type": "stream",
     "text": [
      "Key:  0 Value:  Magenta\n",
      "Key:  1 Value:  Green\n",
      "Key:  2 Value:  Red\n",
      "Key:  3 Value:  White\n",
      "Key:  4 Value:  Yellow\n",
      "Key:  5 Value:  Orange\n",
      "Key:  6 Value:  Teal\n",
      "Key:  7 Value:  Purple\n",
      "Item 3 contains:  White\n",
      "The maximum item is:  [(7, 'Purple')]\n"
     ]
    }
   ],
   "source": [
    "import heapq\n",
    "\n",
    "data = {3:'White', 2:'Red', 1:'Green', 5:'Orange', \n",
    "        4:'Yellow', 7:'Purple', 0:'Magenta'}\n",
    "\n",
    "heap = []\n",
    "for key, value in data.items():\n",
    "    heapq.heappush(heap, (key, value))\n",
    "heapq.heappush(heap, (6, 'Teal'))\n",
    "heap.sort()\n",
    "\n",
    "for item in heap:\n",
    "    print('Key: ', item[0], 'Value: ', item[1])\n",
    "print('Item 3 contains: ', heap[3][1])\n",
    "print('The maximum item is: ', heapq.nlargest(1, heap))"
   ]
  }
 ],
 "metadata": {
  "anaconda-cloud": {},
  "kernelspec": {
   "display_name": "Python [default]",
   "language": "python",
   "name": "python3"
  },
  "language_info": {
   "codemirror_mode": {
    "name": "ipython",
    "version": 3
   },
   "file_extension": ".py",
   "mimetype": "text/x-python",
   "name": "python",
   "nbconvert_exporter": "python",
   "pygments_lexer": "ipython3",
   "version": "3.4.5"
  }
 },
 "nbformat": 4,
 "nbformat_minor": 1
}
