{
 "cells": [
  {
   "cell_type": "markdown",
   "metadata": {},
   "source": [
    "# Selection Sort"
   ]
  },
  {
   "cell_type": "code",
   "execution_count": 1,
   "metadata": {
    "collapsed": false
   },
   "outputs": [
    {
     "name": "stdout",
     "output_type": "stream",
     "text": [
      "[1, 5, 7, 4, 2, 8, 9, 10, 6, 3]\n",
      "[1, 2, 7, 4, 5, 8, 9, 10, 6, 3]\n",
      "[1, 2, 3, 4, 5, 8, 9, 10, 6, 7]\n",
      "[1, 2, 3, 4, 5, 6, 9, 10, 8, 7]\n",
      "[1, 2, 3, 4, 5, 6, 7, 10, 8, 9]\n",
      "[1, 2, 3, 4, 5, 6, 7, 8, 10, 9]\n",
      "[1, 2, 3, 4, 5, 6, 7, 8, 9, 10]\n"
     ]
    }
   ],
   "source": [
    "data = [9, 5, 7, 4, 2, 8, 1, 10, 6, 3]\n",
    "\n",
    "for scanIndex in range(0, len(data)):\n",
    "    minIndex = scanIndex\n",
    "    \n",
    "    for compIndex in range(scanIndex + 1, len(data)):\n",
    "        if data[compIndex] < data[minIndex]:\n",
    "            minIndex = compIndex\n",
    "            \n",
    "    if minIndex != scanIndex:\n",
    "        data[scanIndex], data[minIndex] = \\\n",
    "            data[minIndex], data[scanIndex]\n",
    "        print(data)\n"
   ]
  },
  {
   "cell_type": "markdown",
   "metadata": {},
   "source": [
    "# Insertion Sort"
   ]
  },
  {
   "cell_type": "code",
   "execution_count": 2,
   "metadata": {
    "collapsed": false
   },
   "outputs": [
    {
     "name": "stdout",
     "output_type": "stream",
     "text": [
      "[5, 9, 7, 4, 2, 8, 1, 10, 6, 3]\n",
      "[5, 7, 9, 4, 2, 8, 1, 10, 6, 3]\n",
      "[4, 5, 7, 9, 2, 8, 1, 10, 6, 3]\n",
      "[2, 4, 5, 7, 9, 8, 1, 10, 6, 3]\n",
      "[2, 4, 5, 7, 8, 9, 1, 10, 6, 3]\n",
      "[1, 2, 4, 5, 7, 8, 9, 10, 6, 3]\n",
      "[1, 2, 4, 5, 7, 8, 9, 10, 6, 3]\n",
      "[1, 2, 4, 5, 6, 7, 8, 9, 10, 3]\n",
      "[1, 2, 3, 4, 5, 6, 7, 8, 9, 10]\n"
     ]
    }
   ],
   "source": [
    "data = [9, 5, 7, 4, 2, 8, 1, 10, 6, 3]\n",
    "\n",
    "for scanIndex in range(1, len(data)):\n",
    "    temp = data[scanIndex]\n",
    "    \n",
    "    minIndex = scanIndex\n",
    "    \n",
    "    while minIndex > 0 and temp < data[minIndex - 1]:\n",
    "        data[minIndex] = data[minIndex - 1]\n",
    "        minIndex -= 1\n",
    "        \n",
    "    data[minIndex] = temp\n",
    "    print(data)"
   ]
  },
  {
   "cell_type": "markdown",
   "metadata": {},
   "source": [
    "# Merge Sort"
   ]
  },
  {
   "cell_type": "code",
   "execution_count": 3,
   "metadata": {
    "collapsed": false
   },
   "outputs": [],
   "source": [
    "data = [9, 5, 7, 4, 2, 8, 1, 10, 6, 3]\n",
    "\n",
    "def mergeSort(list):\n",
    "    # Determine whether the list is broken into\n",
    "    # individual pieces.\n",
    "    if len(list) < 2:\n",
    "        return list\n",
    "\n",
    "    # Find the middle of the list.\n",
    "    middle = len(list)//2\n",
    "    \n",
    "    # Break the list into two pieces.\n",
    "    left = mergeSort(list[:middle])\n",
    "    right = mergeSort(list[middle:])\n",
    "\n",
    "    # Merge the two sorted pieces into a larger piece.\n",
    "    print(\"Left side: \", left)\n",
    "    print(\"Right side: \", right)\n",
    "    merged = merge(left, right)\n",
    "    print(\"Merged \", merged)\n",
    "    return merged"
   ]
  },
  {
   "cell_type": "code",
   "execution_count": 4,
   "metadata": {
    "collapsed": false
   },
   "outputs": [
    {
     "name": "stdout",
     "output_type": "stream",
     "text": [
      "Left side:  [9]\n",
      "Right side:  [5]\n",
      "Merged  [5, 9]\n",
      "Left side:  [4]\n",
      "Right side:  [2]\n",
      "Merged  [2, 4]\n",
      "Left side:  [7]\n",
      "Right side:  [2, 4]\n",
      "Merged  [2, 4, 7]\n",
      "Left side:  [5, 9]\n",
      "Right side:  [2, 4, 7]\n",
      "Merged  [2, 4, 5, 7, 9]\n",
      "Left side:  [8]\n",
      "Right side:  [1]\n",
      "Merged  [1, 8]\n",
      "Left side:  [6]\n",
      "Right side:  [3]\n",
      "Merged  [3, 6]\n",
      "Left side:  [10]\n",
      "Right side:  [3, 6]\n",
      "Merged  [3, 6, 10]\n",
      "Left side:  [1, 8]\n",
      "Right side:  [3, 6, 10]\n",
      "Merged  [1, 3, 6, 8, 10]\n",
      "Left side:  [2, 4, 5, 7, 9]\n",
      "Right side:  [1, 3, 6, 8, 10]\n",
      "Merged  [1, 2, 3, 4, 5, 6, 7, 8, 9, 10]\n"
     ]
    },
    {
     "data": {
      "text/plain": [
       "[1, 2, 3, 4, 5, 6, 7, 8, 9, 10]"
      ]
     },
     "execution_count": 4,
     "metadata": {},
     "output_type": "execute_result"
    }
   ],
   "source": [
    "def merge(left, right):\n",
    "    # When the left side or the right side is empty,\n",
    "    # it means that this is an individual item and is\n",
    "    # already sorted.\n",
    "    if not len(left):\n",
    "        return left\n",
    "    if not len(right):\n",
    "        return right\n",
    "\n",
    "    # Define variables used to merge the two pieces.\n",
    "    result = []\n",
    "    leftIndex = 0\n",
    "    rightIndex = 0\n",
    "    totalLen = len(left) + len(right)\n",
    "    \n",
    "    # Keep working until all of the items are merged.\n",
    "    while (len(result) < totalLen):\n",
    "        \n",
    "        # Perform the required comparisons and merge\n",
    "        # the pieces according to value.\n",
    "        if left[leftIndex] < right[rightIndex]:\n",
    "            result.append(left[leftIndex])\n",
    "            leftIndex+= 1\n",
    "        else:\n",
    "            result.append(right[rightIndex])\n",
    "            rightIndex+= 1\n",
    "            \n",
    "        # When the left side or the right side is longer,\n",
    "        # add the remaining elements to the result.\n",
    "        if leftIndex == len(left) or \\\n",
    "            rightIndex == len(right):\n",
    "                result.extend(left[leftIndex:] \n",
    "                              or right[rightIndex:])\n",
    "                break \n",
    "\n",
    "    return result\n",
    "\n",
    "mergeSort(data)"
   ]
  },
  {
   "cell_type": "markdown",
   "metadata": {},
   "source": [
    "# Quick Sort"
   ]
  },
  {
   "cell_type": "code",
   "execution_count": 5,
   "metadata": {
    "collapsed": false
   },
   "outputs": [],
   "source": [
    "data = [9, 5, 7, 4, 2, 8, 1, 10, 6, 3]\n",
    "\n",
    "def partition(data, left, right):\n",
    "    pivot = data[left]\n",
    "    lIndex = left + 1\n",
    "    rIndex = right\n",
    "    \n",
    "    while True:\n",
    "        while lIndex <= rIndex and data[lIndex] <= pivot:\n",
    "            lIndex += 1\n",
    "        while rIndex >= lIndex and data[rIndex] >= pivot:\n",
    "            rIndex -= 1\n",
    "        if rIndex <= lIndex:\n",
    "            break\n",
    "        data[lIndex], data[rIndex] = \\\n",
    "            data[rIndex], data[lIndex]\n",
    "        print(data)\n",
    "        \n",
    "    data[left], data[rIndex] = data[rIndex], data[left]\n",
    "    print(data)\n",
    "    return rIndex"
   ]
  },
  {
   "cell_type": "code",
   "execution_count": 6,
   "metadata": {
    "collapsed": false
   },
   "outputs": [
    {
     "name": "stdout",
     "output_type": "stream",
     "text": [
      "[9, 5, 7, 4, 2, 8, 1, 3, 6, 10]\n",
      "[6, 5, 7, 4, 2, 8, 1, 3, 9, 10]\n",
      "[6, 5, 3, 4, 2, 8, 1, 7, 9, 10]\n",
      "[6, 5, 3, 4, 2, 1, 8, 7, 9, 10]\n",
      "[1, 5, 3, 4, 2, 6, 8, 7, 9, 10]\n",
      "[1, 5, 3, 4, 2, 6, 8, 7, 9, 10]\n",
      "[1, 2, 3, 4, 5, 6, 8, 7, 9, 10]\n",
      "[1, 2, 3, 4, 5, 6, 8, 7, 9, 10]\n",
      "[1, 2, 3, 4, 5, 6, 8, 7, 9, 10]\n",
      "[1, 2, 3, 4, 5, 6, 7, 8, 9, 10]\n"
     ]
    },
    {
     "data": {
      "text/plain": [
       "[1, 2, 3, 4, 5, 6, 7, 8, 9, 10]"
      ]
     },
     "execution_count": 6,
     "metadata": {},
     "output_type": "execute_result"
    }
   ],
   "source": [
    "def quickSort(data, left, right):\n",
    "    if right <= left:\n",
    "        return\n",
    "    else:\n",
    "        pivot = partition(data, left, right)\n",
    "        quickSort(data, left, pivot-1)\n",
    "        quickSort(data, pivot+1, right)\n",
    "        \n",
    "    return data\n",
    "        \n",
    "quickSort(data, 0, len(data)-1)"
   ]
  },
  {
   "cell_type": "code",
   "execution_count": null,
   "metadata": {
    "collapsed": true
   },
   "outputs": [],
   "source": []
  }
 ],
 "metadata": {
  "anaconda-cloud": {},
  "kernelspec": {
   "display_name": "Python [default]",
   "language": "python",
   "name": "python3"
  },
  "language_info": {
   "codemirror_mode": {
    "name": "ipython",
    "version": 3
   },
   "file_extension": ".py",
   "mimetype": "text/x-python",
   "name": "python",
   "nbconvert_exporter": "python",
   "pygments_lexer": "ipython3",
   "version": "3.5.2"
  }
 },
 "nbformat": 4,
 "nbformat_minor": 1
}
