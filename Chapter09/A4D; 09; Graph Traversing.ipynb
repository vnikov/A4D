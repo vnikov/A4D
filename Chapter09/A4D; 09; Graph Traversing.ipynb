{
 "cells": [
  {
   "cell_type": "markdown",
   "metadata": {},
   "source": [
    "# Graph Traversing"
   ]
  },
  {
   "cell_type": "markdown",
   "metadata": {},
   "source": [
    "## Undirected, unweighted graph"
   ]
  },
  {
   "cell_type": "code",
   "execution_count": 1,
   "metadata": {
    "collapsed": true
   },
   "outputs": [],
   "source": [
    "graph = {'A': ['B', 'C'],\n",
    "         'B': ['A', 'C', 'D'],\n",
    "         'C': ['A', 'B', 'D', 'E'],\n",
    "         'D': ['B', 'C', 'E', 'F'],\n",
    "         'E': ['C', 'D', 'F'],\n",
    "         'F': ['D', 'E']}"
   ]
  },
  {
   "cell_type": "code",
   "execution_count": 2,
   "metadata": {
    "collapsed": true
   },
   "outputs": [],
   "source": [
    "import numpy as np\n",
    "import networkx as nx\n",
    "import matplotlib.pyplot as plt\n",
    "%matplotlib inline"
   ]
  },
  {
   "cell_type": "code",
   "execution_count": 3,
   "metadata": {
    "collapsed": false
   },
   "outputs": [
    {
     "data": {
      "image/png": "[encoded data removed]",
      "text/plain": [
       "<matplotlib.figure.Figure at 0x86386a0>"
      ]
     },
     "metadata": {},
     "output_type": "display_data"
    }
   ],
   "source": [
    "Graph = nx.Graph()\n",
    "for node in graph:\n",
    "    Graph.add_nodes_from(node)\n",
    "    for edge in graph[node]:\n",
    "        Graph.add_edge(node,edge)\n",
    "\n",
    "pos = { 'A': [0.00, 0.50], 'B': [0.25, 0.75],\n",
    "        'C': [0.25, 0.25], 'D': [0.75, 0.75],\n",
    "        'E': [0.75, 0.25], 'F': [1.00, 0.50]}\n",
    "        \n",
    "nx.draw(Graph, pos, with_labels=True)\n",
    "nx.draw_networkx(Graph, pos)\n",
    "plt.show()"
   ]
  },
  {
   "cell_type": "markdown",
   "metadata": {},
   "source": [
    "## Breadth First Search"
   ]
  },
  {
   "cell_type": "code",
   "execution_count": 4,
   "metadata": {
    "collapsed": false
   },
   "outputs": [
    {
     "name": "stdout",
     "output_type": "stream",
     "text": [
      "Queue is: ['A']\n",
      "Processing A\n",
      "Adding B to the queue\n",
      "Adding C to the queue\n",
      "Queue is: ['B', 'C']\n",
      "Processing B\n",
      "Adding A to the queue\n",
      "Adding D to the queue\n",
      "Queue is: ['C', 'A', 'D']\n",
      "Processing C\n",
      "Adding E to the queue\n",
      "Queue is: ['A', 'D', 'E']\n",
      "Processing A\n",
      "Queue is: ['D', 'E']\n",
      "Processing D\n",
      "Adding F to the queue\n",
      "Queue is: ['E', 'F']\n",
      "Processing E\n",
      "Queue is: ['F']\n",
      "Processing F\n",
      "\n",
      "BFS: ['A>B', 'A>C', 'B>A', 'B>D', 'C>E', 'D>F']\n"
     ]
    }
   ],
   "source": [
    "def bfs(graph, start):\n",
    "    queue = [start]\n",
    "    queued = list()\n",
    "    path = list()\n",
    "    while queue:\n",
    "        print ('Queue is: %s' % queue)\n",
    "        vertex = queue.pop(0)\n",
    "        print ('Processing %s' % vertex)\n",
    "        for candidate in graph[vertex]:\n",
    "            if candidate not in queued:\n",
    "                queued.append(candidate)\n",
    "                queue.append(candidate)\n",
    "                path.append(vertex+'>'+candidate)\n",
    "                print ('Adding %s to the queue' \n",
    "                       % candidate)\n",
    "    return path\n",
    "\n",
    "steps = bfs(graph, 'A')\n",
    "print ('\\nBFS:', steps)"
   ]
  },
  {
   "cell_type": "markdown",
   "metadata": {},
   "source": [
    "## Depth First Search"
   ]
  },
  {
   "cell_type": "code",
   "execution_count": 5,
   "metadata": {
    "collapsed": false
   },
   "outputs": [
    {
     "name": "stdout",
     "output_type": "stream",
     "text": [
      "Stack is: ['A']\n",
      "Processing A\n",
      "Adding B to the stack\n",
      "Adding C to the stack\n",
      "Stack is: ['B', 'C']\n",
      "Processing C\n",
      "Adding D to the stack\n",
      "Adding E to the stack\n",
      "Stack is: ['B', 'D', 'E']\n",
      "Processing E\n",
      "Adding F to the stack\n",
      "Stack is: ['B', 'D', 'F']\n",
      "Processing F\n",
      "Stack is: ['B', 'D']\n",
      "Processing D\n",
      "Stack is: ['B']\n",
      "Processing B\n",
      "\n",
      "DFS: ['A>C', 'C>E', 'E>F', 'C>D', 'A>B']\n"
     ]
    }
   ],
   "source": [
    "def dfs(graph, start):\n",
    "    stack = [start]\n",
    "    parents = {start: start}\n",
    "    path = list()\n",
    "    while stack:\n",
    "        print ('Stack is: %s' % stack)\n",
    "        vertex = stack.pop(-1)\n",
    "        print ('Processing %s' % vertex)\n",
    "        for candidate in graph[vertex]:\n",
    "            if candidate not in parents:\n",
    "                parents[candidate] = vertex\n",
    "                stack.append(candidate)\n",
    "                print ('Adding %s to the stack' \n",
    "                       % candidate)\n",
    "        path.append(parents[vertex]+'>'+vertex)\n",
    "    return path[1:]\n",
    "\n",
    "steps = dfs(graph, 'A')\n",
    "print ('\\nDFS:', steps)"
   ]
  }
 ],
 "metadata": {
  "anaconda-cloud": {},
  "kernelspec": {
   "display_name": "Python [default]",
   "language": "python",
   "name": "python3"
  },
  "language_info": {
   "codemirror_mode": {
    "name": "ipython",
    "version": 3
   },
   "file_extension": ".py",
   "mimetype": "text/x-python",
   "name": "python",
   "nbconvert_exporter": "python",
   "pygments_lexer": "ipython3",
   "version": "3.5.2"
  }
 },
 "nbformat": 4,
 "nbformat_minor": 0
}
