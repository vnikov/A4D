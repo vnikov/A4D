{
 "cells": [
  {
   "cell_type": "markdown",
   "metadata": {},
   "source": [
    "# Minimum Spanning Tree"
   ]
  },
  {
   "cell_type": "code",
   "execution_count": 1,
   "metadata": {
    "collapsed": true
   },
   "outputs": [],
   "source": [
    "import numpy as np\n",
    "import networkx as nx\n",
    "import matplotlib.pyplot as plt\n",
    "%matplotlib inline"
   ]
  },
  {
   "cell_type": "markdown",
   "metadata": {},
   "source": [
    "## Weighted graphs"
   ]
  },
  {
   "cell_type": "code",
   "execution_count": 2,
   "metadata": {
    "collapsed": true
   },
   "outputs": [],
   "source": [
    "graph = {'A': {'B':2, 'C':3},\n",
    "         'B': {'A':2, 'C':2, 'D':2},\n",
    "         'C': {'A':3, 'B':2, 'D':3, 'E':2},\n",
    "         'D': {'B':2, 'C':3, 'E':1, 'F':3},\n",
    "         'E': {'C':2, 'D':1, 'F':1},\n",
    "         'F': {'D':3, 'E':1}}"
   ]
  },
  {
   "cell_type": "code",
   "execution_count": 3,
   "metadata": {
    "collapsed": false
   },
   "outputs": [
    {
     "data": {
      "image/png": "[encoded data removed]",
      "text/plain": [
       "<matplotlib.figure.Figure at 0x83c55c0>"
      ]
     },
     "metadata": {},
     "output_type": "display_data"
    }
   ],
   "source": [
    "Graph = nx.Graph()\n",
    "for node in graph:\n",
    "    Graph.add_nodes_from(node)\n",
    "    for edge, weight in graph[node].items():\n",
    "        Graph.add_edge(node,edge, weight=weight)\n",
    "\n",
    "pos = { 'A': [0.00, 0.50], 'B': [0.25, 0.75],\n",
    "        'C': [0.25, 0.25], 'D': [0.75, 0.75],\n",
    "        'E': [0.75, 0.25], 'F': [1.00, 0.50]}\n",
    "\n",
    "labels = nx.get_edge_attributes(Graph,'weight')\n",
    "nx.draw(Graph, pos, with_labels=True)\n",
    "nx.draw_networkx_edge_labels(Graph, pos, \n",
    "                             edge_labels=labels)\n",
    "nx.draw_networkx(Graph,pos)\n",
    "plt.show()"
   ]
  },
  {
   "cell_type": "markdown",
   "metadata": {},
   "source": [
    "## Priority queue"
   ]
  },
  {
   "cell_type": "code",
   "execution_count": 4,
   "metadata": {
    "collapsed": true
   },
   "outputs": [],
   "source": [
    "from heapq import heapify, heappop, heappush\n",
    "\n",
    "class priority_queue():\n",
    "    def __init__(self):\n",
    "        self.queue = list()\n",
    "        heapify(self.queue)\n",
    "        self.index = dict()\n",
    "    def push(self, priority, label):\n",
    "        if label in self.index:\n",
    "            self.queue = [(w,l) \n",
    "                for w,l in self.queue if l!=label]\n",
    "            heapify(self.queue)\n",
    "        heappush(self.queue, (priority, label))\n",
    "        self.index[label] = priority \n",
    "    def pop(self):\n",
    "        if self.queue:\n",
    "            return heappop(self.queue)\n",
    "    def __contains__(self, label):\n",
    "        return label in self.index\n",
    "    def __len__(self):\n",
    "        return len(self.queue)"
   ]
  },
  {
   "cell_type": "markdown",
   "metadata": {},
   "source": [
    "## Prim"
   ]
  },
  {
   "cell_type": "code",
   "execution_count": 5,
   "metadata": {
    "collapsed": false
   },
   "outputs": [
    {
     "name": "stdout",
     "output_type": "stream",
     "text": [
      "Added edge from A to B weighting 2\n",
      "Added edge from B to C weighting 2\n",
      "Added edge from B to D weighting 2\n",
      "Added edge from D to E weighting 1\n",
      "Added edge from E to F weighting 1\n",
      "Total spanning tree length: 8\n"
     ]
    }
   ],
   "source": [
    "def prim(graph, start):\n",
    "    treepath = {}\n",
    "    total = 0\n",
    "    queue = priority_queue()\n",
    "    queue.push(0 , (start, start))\n",
    "    while queue:\n",
    "        weight, (node_start, node_end) = queue.pop()\n",
    "        if node_end not in treepath:\n",
    "            treepath[node_end] = node_start\n",
    "            if weight:\n",
    "                print(\"Added edge from %s\" \\\n",
    "                      \" to %s weighting %i\"\n",
    "                      % (node_start, node_end, weight))\n",
    "                total += weight\n",
    "            for next_node, weight \\\n",
    "            in graph[node_end].items():\n",
    "                queue.push(weight , (node_end, next_node))\n",
    "    print (\"Total spanning tree length: %i\" % total)\n",
    "    return treepath\n",
    "\n",
    "treepath = prim(graph, 'A')"
   ]
  },
  {
   "cell_type": "code",
   "execution_count": 6,
   "metadata": {
    "collapsed": true
   },
   "outputs": [],
   "source": [
    "def represent_tree(treepath):\n",
    "    progression = list()\n",
    "    for node in treepath:\n",
    "        if node != treepath[node]:\n",
    "            progression.append((treepath[node], node))\n",
    "    return sorted(progression, key=lambda x:x[0])"
   ]
  },
  {
   "cell_type": "code",
   "execution_count": 7,
   "metadata": {
    "collapsed": false
   },
   "outputs": [
    {
     "name": "stdout",
     "output_type": "stream",
     "text": [
      "[('A', 'B'), ('B', 'C'), ('B', 'D'), ('D', 'E'), ('E', 'F')]\n"
     ]
    }
   ],
   "source": [
    "print (represent_tree(treepath))"
   ]
  },
  {
   "cell_type": "markdown",
   "metadata": {},
   "source": [
    "## Kruskal"
   ]
  },
  {
   "cell_type": "code",
   "execution_count": 8,
   "metadata": {
    "collapsed": false
   },
   "outputs": [
    {
     "name": "stdout",
     "output_type": "stream",
     "text": [
      "Pushing all edges into the priority queue\n",
      "Totally 18 edges\n",
      "Connected components: dict_values([['B'], ['E'], ['A'], ['C'], ['D'], ['F']])\n",
      "Summing ['D'] and ['E'] components:\n",
      "\tadded edge from D to E weighting 1\n",
      "Summing ['D', 'E'] and ['F'] components:\n",
      "\tadded edge from E to F weighting 1\n",
      "Summing ['A'] and ['B'] components:\n",
      "\tadded edge from A to B weighting 2\n",
      "Summing ['A', 'B'] and ['C'] components:\n",
      "\tadded edge from B to C weighting 2\n",
      "Summing ['A', 'B', 'C'] and ['D', 'E', 'F'] components:\n",
      "\tadded edge from B to D weighting 2\n",
      "Total spanning tree length: 8\n",
      "\n",
      "Minimum spanning tree: [('A', 'B'), ('B', 'C'), ('B', 'D'), ('D', 'E'), ('E', 'F')]\n"
     ]
    }
   ],
   "source": [
    "def kruskal(graph):\n",
    "    priority = priority_queue()\n",
    "    print (\"Pushing all edges into the priority queue\")\n",
    "    treepath = list()\n",
    "    connected = dict()\n",
    "    for node in graph:\n",
    "        connected[node] = [node]\n",
    "        for dest, weight in graph[node].items():\n",
    "            priority.push(weight, (node,dest))\n",
    "    print (\"Totally %i edges\" % len(priority))\n",
    "    print (\"Connected components: %s\" \n",
    "           % connected.values())\n",
    "    \n",
    "    total = 0\n",
    "    while len(treepath) < (len(graph)-1):\n",
    "        (weight, (start, end)) = priority.pop()\n",
    "        if end not in connected[start]:\n",
    "            treepath.append((start, end))\n",
    "            print (\"Summing %s and %s components:\" \n",
    "                   % (connected[start],connected[end]))\n",
    "            print (\"\\tadded edge from %s \" \\\n",
    "                   \"to %s weighting %i\" \n",
    "                   % (start, end, weight))\n",
    "            total += weight\n",
    "            connected[start] += connected[end][:]\n",
    "            for element in connected[end]:\n",
    "                connected[element]= connected[start]\n",
    "    print (\"Total spanning tree length: %i\" % total)\n",
    "    return sorted(treepath, key=lambda x:x[0])\n",
    "\n",
    "print ('\\nMinimum spanning tree: %s' % kruskal(graph))"
   ]
  },
  {
   "cell_type": "code",
   "execution_count": null,
   "metadata": {
    "collapsed": true
   },
   "outputs": [],
   "source": []
  }
 ],
 "metadata": {
  "anaconda-cloud": {},
  "kernelspec": {
   "display_name": "Python [default]",
   "language": "python",
   "name": "python3"
  },
  "language_info": {
   "codemirror_mode": {
    "name": "ipython",
    "version": 3
   },
   "file_extension": ".py",
   "mimetype": "text/x-python",
   "name": "python",
   "nbconvert_exporter": "python",
   "pygments_lexer": "ipython3",
   "version": "3.5.2"
  }
 },
 "nbformat": 4,
 "nbformat_minor": 1
}
