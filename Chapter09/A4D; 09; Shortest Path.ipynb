{
 "cells": [
  {
   "cell_type": "markdown",
   "metadata": {},
   "source": [
    "# Shortest Path"
   ]
  },
  {
   "cell_type": "code",
   "execution_count": 1,
   "metadata": {
    "collapsed": true
   },
   "outputs": [],
   "source": [
    "import numpy as np\n",
    "import networkx as nx\n",
    "import matplotlib.pyplot as plt\n",
    "%matplotlib inline"
   ]
  },
  {
   "cell_type": "markdown",
   "metadata": {},
   "source": [
    "# Priority queue (Explained in the Introducing priority queues section)"
   ]
  },
  {
   "cell_type": "code",
   "execution_count": 2,
   "metadata": {
    "collapsed": true
   },
   "outputs": [],
   "source": [
    "from heapq import heapify, heappop, heappush\n",
    "\n",
    "class priority_queue():\n",
    "    def __init__(self):\n",
    "        self.queue = list()\n",
    "        heapify(self.queue)\n",
    "        self.index = dict()\n",
    "    def push(self, priority, label):\n",
    "        if label in self.index:\n",
    "            self.queue = [(w,l) \n",
    "                          for w,l in self.queue if l!=label]\n",
    "            heapify(self.queue)\n",
    "        heappush(self.queue, (priority, label))\n",
    "        self.index[label] = priority \n",
    "    def pop(self):\n",
    "        if self.queue:\n",
    "            return heappop(self.queue)\n",
    "    def __contains__(self, label):\n",
    "        return label in self.index\n",
    "    def __len__(self):\n",
    "        return len(self.queue)"
   ]
  },
  {
   "cell_type": "markdown",
   "metadata": {},
   "source": [
    "## Directed graphs"
   ]
  },
  {
   "cell_type": "code",
   "execution_count": 3,
   "metadata": {
    "collapsed": true
   },
   "outputs": [],
   "source": [
    "graph = {'A': {'B':2, 'C':3},\n",
    "         'B': {'C':2, 'D':2},\n",
    "         'C': {'D':3, 'E':2},\n",
    "         'D': {'F':3},\n",
    "         'E': {'D':1,'F':1},\n",
    "         'F': {}}"
   ]
  },
  {
   "cell_type": "code",
   "execution_count": 4,
   "metadata": {
    "collapsed": false
   },
   "outputs": [],
   "source": [
    "Graph = nx.DiGraph()\n",
    "for node in graph:\n",
    "    Graph.add_nodes_from(node)\n",
    "    for edge, weight in graph[node].items():\n",
    "        Graph.add_edge(node,edge, weight=weight)"
   ]
  },
  {
   "cell_type": "code",
   "execution_count": 5,
   "metadata": {
    "collapsed": false
   },
   "outputs": [
    {
     "data": {
      "image/png": "[encoded data removed]",
      "text/plain": [
       "<matplotlib.figure.Figure at 0x4cc5cf8>"
      ]
     },
     "metadata": {},
     "output_type": "display_data"
    }
   ],
   "source": [
    "pos = { 'A': [0.00, 0.50], 'B': [0.25, 0.75],\n",
    "        'C': [0.25, 0.25], 'D': [0.75, 0.75],\n",
    "        'E': [0.75, 0.25], 'F': [1.00, 0.50]}\n",
    "\n",
    "labels = nx.get_edge_attributes(Graph,'weight')\n",
    "nx.draw(Graph, pos, with_labels=True)\n",
    "nx.draw_networkx_edge_labels(Graph, pos, \n",
    "                             edge_labels=labels)\n",
    "nx.draw_networkx(Graph,pos)\n",
    "plt.show()"
   ]
  },
  {
   "cell_type": "markdown",
   "metadata": {},
   "source": [
    "## Dijkstra algorithm"
   ]
  },
  {
   "cell_type": "code",
   "execution_count": 6,
   "metadata": {
    "collapsed": true
   },
   "outputs": [],
   "source": [
    "def dijkstra(graph, start, end):\n",
    "    inf = float('inf')\n",
    "    known = set()\n",
    "    priority = priority_queue()\n",
    "    path = {start: start}\n",
    "\n",
    "    for vertex in graph:\n",
    "        if vertex == start:\n",
    "            priority.push(0, vertex)\n",
    "        else:\n",
    "            priority.push(inf, vertex)\n",
    "\n",
    "    last = start    \n",
    "    while last != end:\n",
    "        (weight, actual_node) = priority.pop()\n",
    "        if actual_node not in known:\n",
    "            for next_node in graph[actual_node]:\n",
    "                upto_actual = priority.index[actual_node]\n",
    "                upto_next = priority.index[next_node]\n",
    "                to_next = upto_actual + \\\n",
    "                graph[actual_node][next_node]\n",
    "                if to_next < upto_next:\n",
    "                    priority.push(to_next, next_node)\n",
    "                    print(\"Found shortcut from %s to %s\" \n",
    "                          % (actual_node, next_node))\n",
    "                    print (\"\\tTotal length up so far: %i\" \n",
    "                           % to_next)\n",
    "                    path[next_node] = actual_node\n",
    "                    \n",
    "            last = actual_node\n",
    "            known.add(actual_node)\n",
    "    \n",
    "    return priority.index, path"
   ]
  },
  {
   "cell_type": "code",
   "execution_count": 7,
   "metadata": {
    "collapsed": false
   },
   "outputs": [
    {
     "name": "stdout",
     "output_type": "stream",
     "text": [
      "Found shortcut from A to C\n",
      "\tTotal length up so far: 3\n",
      "Found shortcut from A to B\n",
      "\tTotal length up so far: 2\n",
      "Found shortcut from B to D\n",
      "\tTotal length up so far: 4\n",
      "Found shortcut from C to E\n",
      "\tTotal length up so far: 5\n",
      "Found shortcut from D to F\n",
      "\tTotal length up so far: 7\n",
      "Found shortcut from E to F\n",
      "\tTotal length up so far: 6\n"
     ]
    }
   ],
   "source": [
    "dist, path = dijkstra(graph, 'A', 'F')"
   ]
  },
  {
   "cell_type": "code",
   "execution_count": 8,
   "metadata": {
    "collapsed": true
   },
   "outputs": [],
   "source": [
    "def reverse_path(path, start, end):\n",
    "    progression = [end]\n",
    "    while progression[-1] != start:\n",
    "        progression.append(path[progression[-1]])\n",
    "    return progression[::-1]    "
   ]
  },
  {
   "cell_type": "code",
   "execution_count": 9,
   "metadata": {
    "collapsed": false
   },
   "outputs": [
    {
     "name": "stdout",
     "output_type": "stream",
     "text": [
      "['A', 'C', 'E', 'F']\n"
     ]
    }
   ],
   "source": [
    "print (reverse_path(path, 'A', 'F'))"
   ]
  },
  {
   "cell_type": "code",
   "execution_count": 10,
   "metadata": {
    "collapsed": false
   },
   "outputs": [
    {
     "name": "stdout",
     "output_type": "stream",
     "text": [
      "{'A': 0, 'F': 6, 'D': 4, 'C': 3, 'E': 5, 'B': 2}\n"
     ]
    }
   ],
   "source": [
    "print (dist)"
   ]
  },
  {
   "cell_type": "code",
   "execution_count": null,
   "metadata": {
    "collapsed": true
   },
   "outputs": [],
   "source": []
  }
 ],
 "metadata": {
  "anaconda-cloud": {},
  "kernelspec": {
   "display_name": "Python [default]",
   "language": "python",
   "name": "python3"
  },
  "language_info": {
   "codemirror_mode": {
    "name": "ipython",
    "version": 3
   },
   "file_extension": ".py",
   "mimetype": "text/x-python",
   "name": "python",
   "nbconvert_exporter": "python",
   "pygments_lexer": "ipython3",
   "version": "3.5.2"
  }
 },
 "nbformat": 4,
 "nbformat_minor": 1
}
