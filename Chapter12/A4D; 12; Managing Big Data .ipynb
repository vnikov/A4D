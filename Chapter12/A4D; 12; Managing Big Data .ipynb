{
 "cells": [
  {
   "cell_type": "markdown",
   "metadata": {},
   "source": [
    "# Chapter 12 - Managing Big Data "
   ]
  },
  {
   "cell_type": "markdown",
   "metadata": {},
   "source": [
    "## Reserving the right data (Reservoir sampling)"
   ]
  },
  {
   "cell_type": "code",
   "execution_count": 1,
   "metadata": {
    "collapsed": false
   },
   "outputs": [
    {
     "name": "stdout",
     "output_type": "stream",
     "text": [
      "['A', 'B', 'C', 'D', 'E', 'F', 'G', 'H', 'I', 'J', 'K', 'L', 'M', 'N', 'O', 'P', 'Q', 'R', 'S', 'T', 'U', 'V', 'W', 'X', 'Y', 'Z', 'a', 'b', 'c', 'd', 'e', 'f', 'g', 'h', 'i', 'j', 'k', 'l', 'm', 'n', 'o', 'p', 'q', 'r', 's', 't', 'u', 'v', 'w', 'x', 'y', 'z']\n"
     ]
    }
   ],
   "source": [
    "import string\n",
    "datastream = list(string.ascii_uppercase) + list(\n",
    "    string.ascii_lowercase)\n",
    "print(datastream)"
   ]
  },
  {
   "cell_type": "code",
   "execution_count": 2,
   "metadata": {
    "collapsed": false
   },
   "outputs": [],
   "source": [
    "from random import seed, randint\n",
    "seed(9) # change this value for different results\n",
    "sample_size = 5\n",
    "sample = []"
   ]
  },
  {
   "cell_type": "code",
   "execution_count": 3,
   "metadata": {
    "collapsed": false
   },
   "outputs": [],
   "source": [
    "for index, element in enumerate(datastream):\n",
    "        # Until the reservoir is filled, we add elements\n",
    "        if index < sample_size:\n",
    "                sample.append(element)\n",
    "        else:\n",
    "                # Having filled the reservoir, we test a\n",
    "                # random replacement based on the elements\n",
    "                # seen in the data stream\n",
    "                drawn = randint(0, index)\n",
    "                # If the drawn number is less or equal the\n",
    "                # sample size, we replace a previous element\n",
    "                # with the one arriving from the stream\n",
    "                if drawn < sample_size:\n",
    "                        sample[drawn] = element"
   ]
  },
  {
   "cell_type": "code",
   "execution_count": 4,
   "metadata": {
    "collapsed": false
   },
   "outputs": [
    {
     "name": "stdout",
     "output_type": "stream",
     "text": [
      "['y', 'e', 'v', 'F', 'i']\n"
     ]
    }
   ],
   "source": [
    "print (sample)"
   ]
  },
  {
   "cell_type": "markdown",
   "metadata": {},
   "source": [
    "## Filtering stream elements by heart (Bloom Filter)"
   ]
  },
  {
   "cell_type": "code",
   "execution_count": 5,
   "metadata": {
    "collapsed": true
   },
   "outputs": [],
   "source": [
    "hash_functions = 3\n",
    "bit_vector_length = 10\n",
    "bit_vector = [0] * bit_vector_length"
   ]
  },
  {
   "cell_type": "code",
   "execution_count": 6,
   "metadata": {
    "collapsed": false
   },
   "outputs": [],
   "source": [
    "from hashlib import md5, sha1\n",
    "\n",
    "def hash_f(element, i, length):\n",
    "    \"\"\" This is a magic function \"\"\"\n",
    "    h1 = int(md5(element.encode('ascii')).hexdigest(),16)\n",
    "    h2 = int(sha1(element.encode('ascii')).hexdigest(),16)\n",
    "    return (h1 + i*h2) % length\n",
    "\n",
    "def insert_filter(website):\n",
    "    result = list()\n",
    "    for hash_number in range(hash_functions):\n",
    "        position = hash_f(website, hash_number, \n",
    "                          bit_vector_length)\n",
    "        result.append(position)\n",
    "        bit_vector[position] = 1\n",
    "    print ('Inserted in positions: %s' % result)\n",
    "\n",
    "def check_filter(website):\n",
    "    result = list()\n",
    "    for hash_number in range(hash_functions):\n",
    "        position = hash_f(website, hash_number, \n",
    "                          bit_vector_length)\n",
    "        result.append((position,bit_vector[position]))\n",
    "    print ('Bytes in positions: %s' % result)"
   ]
  },
  {
   "cell_type": "code",
   "execution_count": 7,
   "metadata": {
    "collapsed": false
   },
   "outputs": [
    {
     "name": "stdout",
     "output_type": "stream",
     "text": [
      "Inserted in positions: [0, 8, 6]\n",
      "[1, 0, 0, 0, 0, 0, 1, 0, 1, 0]\n"
     ]
    }
   ],
   "source": [
    "insert_filter('wikipedia.org')\n",
    "print (bit_vector)"
   ]
  },
  {
   "cell_type": "code",
   "execution_count": 8,
   "metadata": {
    "collapsed": false
   },
   "outputs": [
    {
     "name": "stdout",
     "output_type": "stream",
     "text": [
      "Inserted in positions: [3, 0, 7]\n",
      "[1, 0, 0, 1, 0, 0, 1, 1, 1, 0]\n"
     ]
    }
   ],
   "source": [
    "insert_filter('youtube.com')\n",
    "print (bit_vector)"
   ]
  },
  {
   "cell_type": "code",
   "execution_count": 9,
   "metadata": {
    "collapsed": false
   },
   "outputs": [
    {
     "name": "stdout",
     "output_type": "stream",
     "text": [
      "Bytes in positions: [(7, 1), (5, 0), (3, 1)]\n"
     ]
    }
   ],
   "source": [
    "check_filter('yahoo.com')"
   ]
  }
 ],
 "metadata": {
  "kernelspec": {
   "display_name": "Python 3",
   "language": "python",
   "name": "python3"
  },
  "language_info": {
   "codemirror_mode": {
    "name": "ipython",
    "version": 3
   },
   "file_extension": ".py",
   "mimetype": "text/x-python",
   "name": "python",
   "nbconvert_exporter": "python",
   "pygments_lexer": "ipython3",
   "version": "3.5.2"
  }
 },
 "nbformat": 4,
 "nbformat_minor": 0
}
