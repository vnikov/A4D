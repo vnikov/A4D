{
 "cells": [
  {
   "cell_type": "markdown",
   "metadata": {},
   "source": [
    "## Devising the MapReduce solution"
   ]
  },
  {
   "cell_type": "code",
   "execution_count": 1,
   "metadata": {
    "collapsed": true
   },
   "outputs": [],
   "source": [
    "L = [0, 1, 2, 3, 4, 5, 6, 7, 8, 9]"
   ]
  },
  {
   "cell_type": "code",
   "execution_count": 2,
   "metadata": {},
   "outputs": [
    {
     "name": "stdout",
     "output_type": "stream",
     "text": [
      "[0, 1, 4, 9, 16, 25, 36, 49, 64, 81]\n"
     ]
    }
   ],
   "source": [
    "m = list(map(lambda x: x**2, L))\n",
    "print(m)"
   ]
  },
  {
   "cell_type": "code",
   "execution_count": 3,
   "metadata": {},
   "outputs": [
    {
     "name": "stdout",
     "output_type": "stream",
     "text": [
      "285\n"
     ]
    }
   ],
   "source": [
    "from functools import reduce\n",
    "L = [0, 1, 2, 3, 4, 5, 6, 7, 8, 9]\n",
    "m = list(map(lambda x: x**2, L))\n",
    "r = reduce(lambda x, y: x+y, m)\n",
    "print(r)"
   ]
  },
  {
   "cell_type": "markdown",
   "metadata": {},
   "source": [
    "## Demonstrating counting words"
   ]
  },
  {
   "cell_type": "code",
   "execution_count": 4,
   "metadata": {
    "scrolled": true
   },
   "outputs": [],
   "source": [
    "import urllib.request\n",
    "url = 'http://gutenberg.readingroo.ms/2/6/0/2600/2600.txt'\n",
    "response = urllib.request.urlopen(url)\n",
    "data = response.read()\n",
    "text = data.decode('utf-8')[627:]"
   ]
  },
  {
   "cell_type": "code",
   "execution_count": 5,
   "metadata": {},
   "outputs": [
    {
     "name": "stdout",
     "output_type": "stream",
     "text": [
      "WAR AND PEACE\n",
      "\n",
      "By Leo Tolstoy/Tolstoi\n"
     ]
    }
   ],
   "source": [
    "print (text[:37])"
   ]
  },
  {
   "cell_type": "code",
   "execution_count": 6,
   "metadata": {},
   "outputs": [
    {
     "name": "stdout",
     "output_type": "stream",
     "text": [
      "Number of words: 566218\n"
     ]
    }
   ],
   "source": [
    "words = text.split()\n",
    "print ('Number of words: %i' % len(words))"
   ]
  },
  {
   "cell_type": "code",
   "execution_count": 7,
   "metadata": {},
   "outputs": [],
   "source": [
    "import os\n",
    "if os.name == \"nt\":\n",
    "    #Safer multithreading on Windows\n",
    "    from multiprocessing.dummy import Pool\n",
    "else:\n",
    "    #Multiprocessing on Linux,Mac\n",
    "    from multiprocessing import Pool\n",
    "    \n",
    "from multiprocessing import cpu_count\n",
    "from functools import partial\n",
    "\n",
    "def remove_punctuation(text):\n",
    "    return ''.join([l for l in text if l not in ['.', \n",
    "            ',', '!', '?', '\"']])\n",
    "\n",
    "def count_words(list_of_words, keywords):\n",
    "    results = list()\n",
    "    for word in list_of_words:\n",
    "        for keyword in keywords:\n",
    "            if keyword == remove_punctuation(\n",
    "                            word.upper()):\n",
    "                results.append((keyword,1))\n",
    "    return results\n",
    "\n",
    "def Partition(data, size):\n",
    "    return [data[x:x+size] for x in range(0, len(data), \n",
    "                                          size)]\n",
    "\n",
    "def Distribute(function, data, cores): \n",
    "    pool = Pool(cores)\n",
    "    results = pool.map(function, data)\n",
    "    pool.close()\n",
    "    return results\n",
    "\n",
    "def Shuffle_Sort(L):\n",
    "    # Shuffle\n",
    "    Mapping = dict()\n",
    "    for sublist in L:\n",
    "        for key_pair in sublist:\n",
    "            key, value = key_pair\n",
    "            if key in Mapping:\n",
    "                Mapping[key].append(key_pair)\n",
    "            else:\n",
    "                Mapping[key] = [key_pair]\n",
    "    return [Mapping[key] for key in Mapping]\n",
    "\n",
    "def Reduce(Mapping):\n",
    "  return (Mapping[0][0], sum([value for (key, value\n",
    "                                ) in Mapping]))"
   ]
  },
  {
   "cell_type": "code",
   "execution_count": 8,
   "metadata": {},
   "outputs": [
    {
     "name": "stdout",
     "output_type": "stream",
     "text": [
      "You have 4 cores available for MapReduce\n"
     ]
    }
   ],
   "source": [
    "n = cpu_count()\n",
    "print ('You have %i cores available for MapReduce' % n)"
   ]
  },
  {
   "cell_type": "code",
   "execution_count": 9,
   "metadata": {},
   "outputs": [
    {
     "name": "stdout",
     "output_type": "stream",
     "text": [
      "map_result is a list made of 4 elements\n",
      "Preview of one element: [('WAR', 1), ('PEACE', 1), ('WAR', 1), ('WAR', 1), ('RUSSIA', 1)]]\n"
     ]
    }
   ],
   "source": [
    "Map = partial(count_words, \n",
    "              keywords=['WAR', 'PEACE', 'RUSSIA', \n",
    "                        'NAPOLEON'])\n",
    "map_result = Distribute(Map, \n",
    "                        Partition(\n",
    "        words,len(words)//n+1), n)\n",
    "print ('map_result is a list made of %i elements' % \n",
    "       len(map_result))\n",
    "print ('Preview of one element: %s]'% map_result[0][:5])"
   ]
  },
  {
   "cell_type": "code",
   "execution_count": 10,
   "metadata": {},
   "outputs": [
    {
     "name": "stdout",
     "output_type": "stream",
     "text": [
      "Shuffled is a list made of 4 elements\n",
      "Preview of first element: [('WAR', 1), ('WAR', 1), ('WAR', 1), ('WAR', 1), ('WAR', 1)]]\n",
      "Preview of second element: [('PEACE', 1), ('PEACE', 1), ('PEACE', 1), ('PEACE', 1), ('PEACE', 1)]]\n"
     ]
    }
   ],
   "source": [
    "Shuffled = Shuffle_Sort(map_result)\n",
    "print ('Shuffled is a list made of %i elements' % \n",
    "       len(Shuffled))\n",
    "print ('Preview of first element: %s]'% Shuffled[0][:5])\n",
    "print ('Preview of second element: %s]'% Shuffled[1][:5])"
   ]
  },
  {
   "cell_type": "code",
   "execution_count": 11,
   "metadata": {},
   "outputs": [
    {
     "name": "stdout",
     "output_type": "stream",
     "text": [
      "Emitted results are: [('WAR', 288), ('PEACE', 111), ('RUSSIA', 156), ('NAPOLEON', 469)]\n"
     ]
    }
   ],
   "source": [
    "result = Distribute(Reduce, Shuffled, n)\n",
    "print ('Emitted results are: %s' % result)"
   ]
  },
  {
   "cell_type": "code",
   "execution_count": 12,
   "metadata": {},
   "outputs": [],
   "source": [
    "import urllib.request\n",
    "url = \"http://gutenberg.pglaf.org/1/6/6/1661/1661.txt\"\n",
    "text = urllib.request.urlopen(url).read().decode(\n",
    "                                    'utf-8')[723:]\n",
    "words = text.split()"
   ]
  },
  {
   "cell_type": "code",
   "execution_count": 13,
   "metadata": {},
   "outputs": [
    {
     "name": "stdout",
     "output_type": "stream",
     "text": [
      "THE ADVENTURES OF SHERLOCK HOLMES\r\n",
      "\r\n",
      "by\r\n",
      "\r\n",
      "SIR ARTHUR CONAN DOYLE\n",
      "\n",
      "Total words are 107431\n"
     ]
    }
   ],
   "source": [
    "print (text[:65])\n",
    "print ('\\nTotal words are %i' % len(words))"
   ]
  },
  {
   "cell_type": "code",
   "execution_count": 14,
   "metadata": {},
   "outputs": [
    {
     "name": "stdout",
     "output_type": "stream",
     "text": [
      "Emitted results are: [('WATSON', 81), ('ELEMENTARY', 1)]\n"
     ]
    }
   ],
   "source": [
    "Map = partial(count_words, \n",
    "              keywords=['WATSON', 'ELEMENTARY'])\n",
    "result = Distribute(Reduce, \n",
    "                    Shuffle_Sort(Distribute(Map, \n",
    "                    Partition(words,len(words)//n+1), n)),\n",
    "                    n)\n",
    "print ('Emitted results are: %s' % result)"
   ]
  }
 ],
 "metadata": {
  "anaconda-cloud": {},
  "kernelspec": {
   "display_name": "Python 3",
   "language": "python",
   "name": "python3"
  },
  "language_info": {
   "codemirror_mode": {
    "name": "ipython",
    "version": 3
   },
   "file_extension": ".py",
   "mimetype": "text/x-python",
   "name": "python",
   "nbconvert_exporter": "python",
   "pygments_lexer": "ipython3",
   "version": "3.6.5"
  }
 },
 "nbformat": 4,
 "nbformat_minor": 1
}
