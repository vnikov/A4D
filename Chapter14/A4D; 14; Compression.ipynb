{
 "cells": [
  {
   "cell_type": "markdown",
   "metadata": {
    "collapsed": true
   },
   "source": [
    "# Compression performances"
   ]
  },
  {
   "cell_type": "code",
   "execution_count": 1,
   "metadata": {
    "collapsed": false
   },
   "outputs": [
    {
     "name": "stdout",
     "output_type": "stream",
     "text": [
      "0100100001100101011011000110110001101111001000000101011101101111011100100110110001100100\n"
     ]
    }
   ],
   "source": [
    "print (''.join(['{0:08b}'.format(ord(l)) \n",
    "                for l in \"Hello World\"]))"
   ]
  },
  {
   "cell_type": "code",
   "execution_count": 2,
   "metadata": {
    "collapsed": false
   },
   "outputs": [
    {
     "name": "stdout",
     "output_type": "stream",
     "text": [
      "01000001 01000011 01010100 01000111\n"
     ]
    }
   ],
   "source": [
    "print (' '.join(['{0:08b}'.format(ord(l)) \n",
    "                 for l in \"ACTG\"]))"
   ]
  },
  {
   "cell_type": "code",
   "execution_count": 3,
   "metadata": {
    "collapsed": false
   },
   "outputs": [
    {
     "name": "stdout",
     "output_type": "stream",
     "text": [
      "Original size for both texts: 594941 characters\n",
      "The Adventures of Sherlock Holmes to 226824\n",
      "Random file to 521455 \n"
     ]
    }
   ],
   "source": [
    "import urllib.request\n",
    "import zlib\n",
    "from random import randint\n",
    "url = \"http://gutenberg.pglaf.org/1/6/6/1661/1661.txt\"\n",
    "sh = urllib.request.urlopen(url).read().decode('utf-8')\n",
    "sh_length = len(sh)\n",
    "rnd = ''.join([chr(randint(0,126)) for k in \n",
    "               range(sh_length)])\n",
    "\n",
    "def zipped(text):\n",
    "    return len(zlib.compress(text.encode(\"ascii\")))\n",
    "\n",
    "print (\"Original size for both texts: %s characters\" % \n",
    "       sh_length)\n",
    "print (\"The Adventures of Sherlock Holmes to %s\" % \n",
    "       zipped(sh))\n",
    "print (\"Random file to %s \" % zipped(rnd)) "
   ]
  },
  {
   "cell_type": "markdown",
   "metadata": {},
   "source": [
    "# LZW"
   ]
  },
  {
   "cell_type": "code",
   "execution_count": 4,
   "metadata": {
    "collapsed": false
   },
   "outputs": [],
   "source": [
    "def lzw_compress(text):\n",
    "    dictionary = {chr(k): k for k in range(256)}\n",
    "    encoded = list()\n",
    "    s = text[0]\n",
    "    for c in text[1:]:\n",
    "        if s+c in dictionary:\n",
    "            s = s+c\n",
    "        else:\n",
    "            print ('> %s' %s)\n",
    "            encoded.append(dictionary[s])\n",
    "            print ('found: %s compressed as %s' % \n",
    "                   (s,dictionary[s]))\n",
    "            dictionary[s+c] = max(dictionary.values()) + 1\n",
    "            print ('New sequence %s indexed as %s' % \n",
    "                   (s+c, dictionary[s+c]))\n",
    "            s = c \n",
    "    encoded.append(dictionary[s])\n",
    "    print ('found: %s compressed as %s' \n",
    "           %(s,dictionary[s]))\n",
    "    return encoded"
   ]
  },
  {
   "cell_type": "code",
   "execution_count": 5,
   "metadata": {
    "collapsed": false
   },
   "outputs": [
    {
     "name": "stdout",
     "output_type": "stream",
     "text": [
      "> A\n",
      "found: A compressed as 65\n",
      "New sequence AB indexed as 256\n",
      "> B\n",
      "found: B compressed as 66\n",
      "New sequence BA indexed as 257\n",
      "> AB\n",
      "found: AB compressed as 256\n",
      "New sequence ABC indexed as 258\n",
      "> C\n",
      "found: C compressed as 67\n",
      "New sequence CA indexed as 259\n",
      "> ABC\n",
      "found: ABC compressed as 258\n",
      "New sequence ABCA indexed as 260\n",
      "found: ABC compressed as 258\n",
      "\n",
      "Compressed: [65, 66, 256, 67, 258, 258] \n",
      "\n"
     ]
    }
   ],
   "source": [
    "text = \"ABABCABCABC\"\n",
    "compressed = lzw_compress(text)\n",
    "print('\\nCompressed: %s \\n' % compressed)"
   ]
  },
  {
   "cell_type": "code",
   "execution_count": 6,
   "metadata": {
    "collapsed": false
   },
   "outputs": [],
   "source": [
    "def lzw_decompress(encoded):\n",
    "    reverse_dictionary = {k:chr(k) for k in range(256)}\n",
    "    current = encoded[0]\n",
    "    output = reverse_dictionary[current]\n",
    "    print ('Decompressed %s ' % output)\n",
    "    print ('>%s' % output)\n",
    "    for element in encoded[1:]:\n",
    "        previous = current\n",
    "        current = element\n",
    "        if current in reverse_dictionary:\n",
    "            s = reverse_dictionary[current]\n",
    "            print ('Decompressed %s ' % s)\n",
    "            output += s\n",
    "            print ('>%s' % output)\n",
    "            new_index = max(reverse_dictionary.keys()) + 1\n",
    "            reverse_dictionary[new_index\n",
    "            ] = reverse_dictionary[previous] + s[0]\n",
    "            print ('New dictionary entry %s at index %s' % \n",
    "                    (reverse_dictionary[previous] + s[0], \n",
    "                     new_index))\n",
    "        else:\n",
    "            print ('Not found:',current,'Output:', \n",
    "                   reverse_dictionary[previous\n",
    "                    ] + reverse_dictionary[previous][0])\n",
    "            s = reverse_dictionary[previous\n",
    "                    ] + reverse_dictionary[previous][0]\n",
    "            print ('New dictionary entry %s at index %s' % \n",
    "                   (s, max(reverse_dictionary.keys())+1))\n",
    "            reverse_dictionary[\n",
    "                max(reverse_dictionary.keys())+1] = s\n",
    "            print ('Decompressed %s' % s)\n",
    "            output += s\n",
    "            print ('>%s' % output)\n",
    "    return output"
   ]
  },
  {
   "cell_type": "code",
   "execution_count": 7,
   "metadata": {
    "collapsed": false
   },
   "outputs": [
    {
     "name": "stdout",
     "output_type": "stream",
     "text": [
      "Decompressed A \n",
      ">A\n",
      "Decompressed B \n",
      ">AB\n",
      "New dictionary entry AB at index 256\n",
      "Decompressed AB \n",
      ">ABAB\n",
      "New dictionary entry BA at index 257\n",
      "Decompressed C \n",
      ">ABABC\n",
      "New dictionary entry ABC at index 258\n",
      "Decompressed ABC \n",
      ">ABABCABC\n",
      "New dictionary entry CA at index 259\n",
      "Decompressed ABC \n",
      ">ABABCABCABC\n",
      "New dictionary entry ABCA at index 260\n",
      "\n",
      "decompressed string : ABABCABCABC\n",
      "original string was : ABABCABCABC\n"
     ]
    }
   ],
   "source": [
    "print ('\\ndecompressed string : %s' % \n",
    "       lzw_decompress(compressed))\n",
    "print ('original string was : %s' % text)"
   ]
  },
  {
   "cell_type": "code",
   "execution_count": null,
   "metadata": {
    "collapsed": true
   },
   "outputs": [],
   "source": []
  }
 ],
 "metadata": {
  "anaconda-cloud": {},
  "kernelspec": {
   "display_name": "Python [default]",
   "language": "python",
   "name": "python3"
  },
  "language_info": {
   "codemirror_mode": {
    "name": "ipython",
    "version": 3
   },
   "file_extension": ".py",
   "mimetype": "text/x-python",
   "name": "python",
   "nbconvert_exporter": "python",
   "pygments_lexer": "ipython3",
   "version": "3.5.2"
  }
 },
 "nbformat": 4,
 "nbformat_minor": 1
}
