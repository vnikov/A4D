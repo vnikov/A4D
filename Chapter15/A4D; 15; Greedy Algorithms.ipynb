{
 "cells": [
  {
   "cell_type": "markdown",
   "metadata": {},
   "source": [
    "# Make change algorithm"
   ]
  },
  {
   "cell_type": "code",
   "execution_count": 1,
   "metadata": {
    "collapsed": false
   },
   "outputs": [],
   "source": [
    "def change(to_be_changed, denomination):\n",
    "    resulting_change = list()\n",
    "    for bill in denomination:\n",
    "        while to_be_changed >= bill:\n",
    "            resulting_change.append(bill)\n",
    "            to_be_changed = to_be_changed - bill\n",
    "    return resulting_change, len(resulting_change)"
   ]
  },
  {
   "cell_type": "code",
   "execution_count": 2,
   "metadata": {
    "collapsed": false
   },
   "outputs": [
    {
     "name": "stdout",
     "output_type": "stream",
     "text": [
      "Change: [100, 100, 100, 50, 10, 5, 1, 1] (using 8 bills)\n"
     ]
    }
   ],
   "source": [
    "currency = [100, 50, 20, 10, 5, 1]\n",
    "amount = 367\n",
    "print ('Change: %s (using %i bills)' \n",
    "       % (change(amount, currency)))"
   ]
  },
  {
   "cell_type": "code",
   "execution_count": 3,
   "metadata": {
    "collapsed": false
   },
   "outputs": [
    {
     "name": "stdout",
     "output_type": "stream",
     "text": [
      "Change: [25, 1, 1, 1, 1, 1] (using 6 bills)\n"
     ]
    }
   ],
   "source": [
    "print ('Change: %s (using %i bills)' \n",
    "       % (change(30, [25, 15, 1])))"
   ]
  },
  {
   "cell_type": "markdown",
   "metadata": {
    "collapsed": true
   },
   "source": [
    "# Reprising Huffman compression"
   ]
  },
  {
   "cell_type": "code",
   "execution_count": 4,
   "metadata": {
    "collapsed": true
   },
   "outputs": [],
   "source": [
    "from heapq import heappush, heappop, heapify\n",
    "from collections import defaultdict, Counter\n",
    "from random import shuffle, seed"
   ]
  },
  {
   "cell_type": "code",
   "execution_count": 5,
   "metadata": {
    "collapsed": false
   },
   "outputs": [
    {
     "name": "stdout",
     "output_type": "stream",
     "text": [
      "CAACCCCGACACGCCTCCATAGCCACAACAAGCAAAAAAGGCAAGTAAAAGGAAATCCCGACACCAGATTCCCACCAGACCACAAGAGGTCTCAGCACAAAACGAAAAACCACACATGACAACATGTAACCAATTCAGATGCTAGGCAGACGTCGATGATGAATGACCGACCAGGACAACCAACACTAAATCGTACATAAACAGAATAGCCCGCAATTGCTTACCAACCAAACAACCCCACAACGCACCTAACAAAGCAAACACCCACGCACTCGTCAAGGACTAACCCCTGACAGCTTACCACATTAAAAGAAAACCAACACAGTCAAACTACCACCCGCGCTACTATCACCAGAATCACGCCCGGTATATTCCCGCAAACTTCCCAGACCACACTTTCACACTGCAGAAATGCCCGAAACAGTTCCTAGAAGTGCTTAGAAGCTTGCATGACCCAAAAATTATCTATCATAAAAATAACAGCTGTAACAATCGGGCAAAAAACATACCCTTTTCCAATGAGAAAACAACCAACGGTACATGAACGGTCGGTACTATCGAATAAAAGATTACGCTAACAACAGCGCTAAAAAAAAAAAATGGTATTAGTCAACAAACTCACAACACTTATGATACTACTCCAATGGGTACCCCTTATCACTCGACTAGATTTACACACGATAGGACTACCCTAAGAGAACCCACACGGCAACTACACGAACACGCCCCAAATCCAAGAGGCCAAAAAAGAAATACAAAACCAAGTCAACAACGCCACAGCTGTATTACGGCTAGCAACAACTCCACACATTAGCCACGAAGAAGATTAAACTTCGAACAGCCAATCAACCTCGGGCGATTACACTAAAATAAATAAGAATTAACAGGCACCAAGTTGGAAACTCTCAACCAAAGGATCACCTACAAGCCTATCAACTGTAGACTTCCATAACACACATAGTACGACATAGGAAAAGAACACACAACCCAATGGTCCCGG\n"
     ]
    }
   ],
   "source": [
    "# We generate some random text to compress with a different\n",
    "# Statistical distribution \n",
    "generator = [\"A\"]*6+[\"C\"]*4+[\"G\"]*2+[\"T\"]*2\n",
    "text = \"\"\n",
    "seed(4)\n",
    "for i in range(1000):\n",
    "    shuffle(generator)\n",
    "    text += generator[0]\n",
    "print(text)"
   ]
  },
  {
   "cell_type": "code",
   "execution_count": 6,
   "metadata": {
    "collapsed": false
   },
   "outputs": [
    {
     "name": "stdout",
     "output_type": "stream",
     "text": [
      "Counter({'A': 405, 'C': 292, 'T': 158, 'G': 145})\n"
     ]
    }
   ],
   "source": [
    "frequencies = Counter(list(text))\n",
    "print(frequencies)"
   ]
  },
  {
   "cell_type": "code",
   "execution_count": 7,
   "metadata": {
    "collapsed": false
   },
   "outputs": [
    {
     "name": "stdout",
     "output_type": "stream",
     "text": [
      "[[145, ['G', '']], [158, ['T', '']], [292, ['C', '']], [405, ['A', '']]]\n"
     ]
    }
   ],
   "source": [
    "heap = ([[freq, [char, \"\"]] for char, freq in \n",
    "         frequencies.items()])\n",
    "heapify(heap)\n",
    "print(heap)"
   ]
  },
  {
   "cell_type": "code",
   "execution_count": 8,
   "metadata": {
    "collapsed": false
   },
   "outputs": [
    {
     "name": "stdout",
     "output_type": "stream",
     "text": [
      "Step 1 1st:[145, ['G', '']] 2nd:[158, ['T', '']]\n",
      "Step 2 1st:[292, ['C', '']] 2nd:[303, ['G', '0'], ['T', '1']]\n",
      "Step 3 1st:[405, ['A', '']] 2nd:[595, ['C', '0'], ['G', '10'], ['T', '11']]\n"
     ]
    }
   ],
   "source": [
    "iteration = 0\n",
    "while len(heap) > 1:\n",
    "    iteration += 1\n",
    "    lo = heappop(heap)\n",
    "    hi = heappop(heap)\n",
    "    print ('Step %i 1st:%s 2nd:%s' % (iteration, lo,hi))\n",
    "    for pair in lo[1:]:\n",
    "        pair[1] = '0' + pair[1]\n",
    "    for pair in hi[1:]:\n",
    "        pair[1] = '1' + pair[1]\n",
    "    heappush(heap, [lo[0] + hi[0]] + lo[1:] + hi[1:])"
   ]
  },
  {
   "cell_type": "code",
   "execution_count": 9,
   "metadata": {
    "collapsed": false
   },
   "outputs": [
    {
     "name": "stdout",
     "output_type": "stream",
     "text": [
      "Symbol\tWeight\tCode\n",
      "A\t405\t0\n",
      "C\t292\t10\n",
      "G\t145\t110\n",
      "T\t158\t111\n"
     ]
    }
   ],
   "source": [
    "tree = sorted(heappop(heap)[1:], key=lambda p: (len(p[-\n",
    "            1]), p))\n",
    "print (\"Symbol\\tWeight\\tCode\")\n",
    "for e in tree:\n",
    "    print (\"%s\\t%s\\t%s\" % (e[0], frequencies[e[0]], e[1]))"
   ]
  },
  {
   "cell_type": "code",
   "execution_count": null,
   "metadata": {
    "collapsed": true
   },
   "outputs": [],
   "source": []
  }
 ],
 "metadata": {
  "anaconda-cloud": {},
  "kernelspec": {
   "display_name": "Python [default]",
   "language": "python",
   "name": "python3"
  },
  "language_info": {
   "codemirror_mode": {
    "name": "ipython",
    "version": 3
   },
   "file_extension": ".py",
   "mimetype": "text/x-python",
   "name": "python",
   "nbconvert_exporter": "python",
   "pygments_lexer": "ipython3",
   "version": "3.5.2"
  }
 },
 "nbformat": 4,
 "nbformat_minor": 1
}
