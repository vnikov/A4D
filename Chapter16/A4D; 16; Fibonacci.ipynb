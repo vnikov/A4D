{
 "cells": [
  {
   "cell_type": "markdown",
   "metadata": {},
   "source": [
    "## Fibonacci numbers"
   ]
  },
  {
   "cell_type": "code",
   "execution_count": 1,
   "metadata": {
    "collapsed": true
   },
   "outputs": [],
   "source": [
    "def fib(n, tab=0):\n",
    "    if n==0:\n",
    "        return 0\n",
    "    elif n == 1:\n",
    "        return 1\n",
    "    else:\n",
    "        print (\"lvl %i, Summing fib(%i) and fib(%i)\" % \n",
    "               (tab, n-1, n-2))\n",
    "        return fib(n-1,tab+1) + fib(n-2,tab+1)"
   ]
  },
  {
   "cell_type": "code",
   "execution_count": 2,
   "metadata": {
    "collapsed": false
   },
   "outputs": [
    {
     "name": "stdout",
     "output_type": "stream",
     "text": [
      "lvl 0, Summing fib(6) and fib(5)\n",
      "lvl 1, Summing fib(5) and fib(4)\n",
      "lvl 2, Summing fib(4) and fib(3)\n",
      "lvl 3, Summing fib(3) and fib(2)\n",
      "lvl 4, Summing fib(2) and fib(1)\n",
      "lvl 5, Summing fib(1) and fib(0)\n",
      "lvl 4, Summing fib(1) and fib(0)\n",
      "lvl 3, Summing fib(2) and fib(1)\n",
      "lvl 4, Summing fib(1) and fib(0)\n",
      "lvl 2, Summing fib(3) and fib(2)\n",
      "lvl 3, Summing fib(2) and fib(1)\n",
      "lvl 4, Summing fib(1) and fib(0)\n",
      "lvl 3, Summing fib(1) and fib(0)\n",
      "lvl 1, Summing fib(4) and fib(3)\n",
      "lvl 2, Summing fib(3) and fib(2)\n",
      "lvl 3, Summing fib(2) and fib(1)\n",
      "lvl 4, Summing fib(1) and fib(0)\n",
      "lvl 3, Summing fib(1) and fib(0)\n",
      "lvl 2, Summing fib(2) and fib(1)\n",
      "lvl 3, Summing fib(1) and fib(0)\n"
     ]
    },
    {
     "data": {
      "text/plain": [
       "13"
      ]
     },
     "execution_count": 2,
     "metadata": {},
     "output_type": "execute_result"
    }
   ],
   "source": [
    "fib(7)"
   ]
  },
  {
   "cell_type": "code",
   "execution_count": 3,
   "metadata": {
    "collapsed": false
   },
   "outputs": [],
   "source": [
    "memo = dict()\n",
    "def fib_mem(n, tab=0):\n",
    "    if n==0:\n",
    "        return 0\n",
    "    elif n == 1:\n",
    "        return 1\n",
    "    else:\n",
    "        if (n-1, n-2) not in memo:\n",
    "            print (\"lvl %i, Summing fib(%i) and fib(%i)\" %\n",
    "                   (tab, n-1, n-2))\n",
    "            memo[(n-1,n-2)] = fib_mem(n-1,tab+1\n",
    "                          ) + fib_mem(n-2,tab+1)\n",
    "        return memo[(n-1,n-2)]"
   ]
  },
  {
   "cell_type": "code",
   "execution_count": 4,
   "metadata": {
    "collapsed": false
   },
   "outputs": [
    {
     "name": "stdout",
     "output_type": "stream",
     "text": [
      "lvl 0, Summing fib(6) and fib(5)\n",
      "lvl 1, Summing fib(5) and fib(4)\n",
      "lvl 2, Summing fib(4) and fib(3)\n",
      "lvl 3, Summing fib(3) and fib(2)\n",
      "lvl 4, Summing fib(2) and fib(1)\n",
      "lvl 5, Summing fib(1) and fib(0)\n"
     ]
    },
    {
     "data": {
      "text/plain": [
       "13"
      ]
     },
     "execution_count": 4,
     "metadata": {},
     "output_type": "execute_result"
    }
   ],
   "source": [
    "fib_mem(7)"
   ]
  },
  {
   "cell_type": "code",
   "execution_count": 5,
   "metadata": {
    "collapsed": false
   },
   "outputs": [
    {
     "data": {
      "text/plain": [
       "{(1, 0): 1, (2, 1): 2, (3, 2): 3, (4, 3): 5, (5, 4): 8, (6, 5): 13}"
      ]
     },
     "execution_count": 5,
     "metadata": {},
     "output_type": "execute_result"
    }
   ],
   "source": [
    "memo"
   ]
  },
  {
   "cell_type": "markdown",
   "metadata": {
    "collapsed": true
   },
   "source": [
    "## Memoization "
   ]
  },
  {
   "cell_type": "code",
   "execution_count": 6,
   "metadata": {
    "collapsed": false
   },
   "outputs": [],
   "source": [
    "def fib(n):\n",
    "    if n==0:\n",
    "        return 0\n",
    "    elif n == 1:\n",
    "        return 1\n",
    "    else:\n",
    "        return fib(n-1) + fib(n-2)"
   ]
  },
  {
   "cell_type": "code",
   "execution_count": 7,
   "metadata": {
    "collapsed": false
   },
   "outputs": [
    {
     "name": "stdout",
     "output_type": "stream",
     "text": [
      "14930352\n",
      "1 loop, best of 1: 18 s per loop\n"
     ]
    }
   ],
   "source": [
    "%timeit -n 1 -r 1 print(fib(36))"
   ]
  },
  {
   "cell_type": "code",
   "execution_count": 8,
   "metadata": {
    "collapsed": false
   },
   "outputs": [],
   "source": [
    "from functools import lru_cache\n",
    "\n",
    "@lru_cache(maxsize=None)\n",
    "def fib(n):\n",
    "    if n==0:\n",
    "        return 0\n",
    "    elif n == 1:\n",
    "        return 1\n",
    "    else:\n",
    "        return fib(n-1) + fib(n-2)"
   ]
  },
  {
   "cell_type": "code",
   "execution_count": 9,
   "metadata": {
    "collapsed": false
   },
   "outputs": [
    {
     "name": "stdout",
     "output_type": "stream",
     "text": [
      "14930352\n",
      "1 loop, best of 1: 425 µs per loop\n"
     ]
    }
   ],
   "source": [
    "%timeit -n 1 -r 1 print(fib(36))"
   ]
  },
  {
   "cell_type": "code",
   "execution_count": 10,
   "metadata": {
    "collapsed": false
   },
   "outputs": [
    {
     "data": {
      "text/plain": [
       "CacheInfo(hits=34, misses=37, maxsize=None, currsize=37)"
      ]
     },
     "execution_count": 10,
     "metadata": {},
     "output_type": "execute_result"
    }
   ],
   "source": [
    "fib.cache_info()"
   ]
  }
 ],
 "metadata": {
  "anaconda-cloud": {},
  "kernelspec": {
   "display_name": "Python [default]",
   "language": "python",
   "name": "python3"
  },
  "language_info": {
   "codemirror_mode": {
    "name": "ipython",
    "version": 3
   },
   "file_extension": ".py",
   "mimetype": "text/x-python",
   "name": "python",
   "nbconvert_exporter": "python",
   "pygments_lexer": "ipython3",
   "version": "3.4.5"
  }
 },
 "nbformat": 4,
 "nbformat_minor": 1
}
