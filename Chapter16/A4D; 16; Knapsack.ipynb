{
 "cells": [
  {
   "cell_type": "markdown",
   "metadata": {},
   "source": [
    "## Knapsack"
   ]
  },
  {
   "cell_type": "code",
   "execution_count": 1,
   "metadata": {
    "collapsed": false
   },
   "outputs": [],
   "source": [
    "import numpy as np\n",
    "\n",
    "values = np.array([3,4,3,5,8,10])\n",
    "weights = np.array([2,3,4,4,5,9])\n",
    "items = len(weights)\n",
    "capacity = 20"
   ]
  },
  {
   "cell_type": "code",
   "execution_count": 2,
   "metadata": {
    "collapsed": false
   },
   "outputs": [],
   "source": [
    "memo = dict()\n",
    "for size in range(0, capacity+1, 1):\n",
    "    memo[(-1, size)] = ([], 0)\n",
    "    \n",
    "for item in range(items):\n",
    "    for size in range(0, capacity+1, 1):\n",
    "        # if the object doesn't fit in the knapsack\n",
    "        if weights[item] > size:\n",
    "            memo[item, size] = memo[item-1, size]\n",
    "        else:\n",
    "        # if the objcts fits, we check what can best fit \n",
    "        # in the residual space\n",
    "            previous_row, previous_row_value = memo[\n",
    "                        item-1, size-weights[item]]\n",
    "            if memo[item-1, size][1] > values[item\n",
    "                            ] + previous_row_value:\n",
    "                memo[item, size] = memo[item-1, size]\n",
    "            else:\n",
    "                memo[item, size] = (previous_row + [item\n",
    "                    ], previous_row_value + values[item])"
   ]
  },
  {
   "cell_type": "code",
   "execution_count": 3,
   "metadata": {
    "collapsed": false
   },
   "outputs": [
    {
     "name": "stdout",
     "output_type": "stream",
     "text": [
      "The best set [0, 3, 4, 5] weights 20 and values 26\n"
     ]
    }
   ],
   "source": [
    "best_set, score = memo[items-1, capacity]\n",
    "print ('The best set %s weights %i and values %i' \n",
    "       % (best_set, np.sum((weights[best_set])), score))"
   ]
  },
  {
   "cell_type": "code",
   "execution_count": 4,
   "metadata": {
    "collapsed": false
   },
   "outputs": [
    {
     "name": "stdout",
     "output_type": "stream",
     "text": [
      "147\n"
     ]
    }
   ],
   "source": [
    "print (len(memo))"
   ]
  },
  {
   "cell_type": "code",
   "execution_count": 5,
   "metadata": {
    "collapsed": false
   },
   "outputs": [
    {
     "name": "stdout",
     "output_type": "stream",
     "text": [
      "([0, 1, 2], 10)\n"
     ]
    }
   ],
   "source": [
    "print (memo[2, 10])\n",
    "# it tells the best solution with a knapsack of size \n",
    "# 10 and a set of items containing item 2"
   ]
  },
  {
   "cell_type": "code",
   "execution_count": 6,
   "metadata": {
    "collapsed": false
   },
   "outputs": [
    {
     "name": "stdout",
     "output_type": "stream",
     "text": [
      "tested 6 items, tested 21 knapsacks\n"
     ]
    }
   ],
   "source": [
    "print (\"tested %i items, tested %i knapsacks\" \n",
    "       % (items, len(range(0, capacity+1, 1))))"
   ]
  },
  {
   "cell_type": "code",
   "execution_count": 7,
   "metadata": {
    "collapsed": false
   },
   "outputs": [
    {
     "data": {
      "text/plain": [
       "63.0"
      ]
     },
     "execution_count": 7,
     "metadata": {},
     "output_type": "execute_result"
    }
   ],
   "source": [
    "from scipy.misc import comb\n",
    "objects = 6\n",
    "np.sum([comb(objects,k+1) for k in range(objects)])"
   ]
  },
  {
   "cell_type": "code",
   "execution_count": 8,
   "metadata": {
    "collapsed": false
   },
   "outputs": [
    {
     "data": {
      "text/plain": [
       "1048575.0"
      ]
     },
     "execution_count": 8,
     "metadata": {},
     "output_type": "execute_result"
    }
   ],
   "source": [
    "from scipy.misc import comb\n",
    "objects = 20\n",
    "np.sum([comb(objects,k+1) for k in range(objects)])"
   ]
  },
  {
   "cell_type": "code",
   "execution_count": null,
   "metadata": {
    "collapsed": true
   },
   "outputs": [],
   "source": []
  }
 ],
 "metadata": {
  "anaconda-cloud": {},
  "kernelspec": {
   "display_name": "Python [default]",
   "language": "python",
   "name": "python3"
  },
  "language_info": {
   "codemirror_mode": {
    "name": "ipython",
    "version": 3
   },
   "file_extension": ".py",
   "mimetype": "text/x-python",
   "name": "python",
   "nbconvert_exporter": "python",
   "pygments_lexer": "ipython3",
   "version": "3.5.2"
  }
 },
 "nbformat": 4,
 "nbformat_minor": 1
}
