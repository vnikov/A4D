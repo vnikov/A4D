{
 "cells": [
  {
   "cell_type": "markdown",
   "metadata": {},
   "source": [
    "# Calculating median with quickselect"
   ]
  },
  {
   "cell_type": "code",
   "execution_count": 1,
   "metadata": {
    "collapsed": false
   },
   "outputs": [],
   "source": [
    "from random import randint, random, choice\n",
    "import numpy as np\n",
    "import sys\n",
    "sys.setrecursionlimit(1500)"
   ]
  },
  {
   "cell_type": "code",
   "execution_count": 2,
   "metadata": {
    "collapsed": false
   },
   "outputs": [
    {
     "name": "stdout",
     "output_type": "stream",
     "text": [
      "Median is 14.0\n"
     ]
    }
   ],
   "source": [
    "n = 501\n",
    "series = [randint(1,25) for i in range(n)]\n",
    "print ('Median is %0.1f' % np.median(series))"
   ]
  },
  {
   "cell_type": "code",
   "execution_count": 3,
   "metadata": {
    "collapsed": false
   },
   "outputs": [
    {
     "name": "stdout",
     "output_type": "stream",
     "text": [
      "251st element of the ordered series is 14.0\n"
     ]
    }
   ],
   "source": [
    "print ('251st element of the ordered series is %0.1f' % \n",
    "       sorted(series)[250])"
   ]
  },
  {
   "cell_type": "code",
   "execution_count": 4,
   "metadata": {
    "collapsed": true
   },
   "outputs": [],
   "source": [
    "def quickselect(series, k):\n",
    "    pivot = choice(series)\n",
    "\n",
    "    left, right = list(),list()\n",
    "    for item in series:\n",
    "        if item < pivot: \n",
    "            left.append(item)\n",
    "        if item > pivot:\n",
    "            right.append(item)\n",
    "            \n",
    "    length_left = len(left)\n",
    "    if length_left > k:\n",
    "        return quickselect(left, k)\n",
    "    k -= length_left\n",
    "\n",
    "    duplicates = len(series) - (length_left + len(right))\n",
    "    if duplicates > k:\n",
    "        return float(pivot)\n",
    "    k -= duplicates\n",
    "    \n",
    "    return quickselect(right, k)"
   ]
  },
  {
   "cell_type": "code",
   "execution_count": 5,
   "metadata": {
    "collapsed": false
   },
   "outputs": [
    {
     "data": {
      "text/plain": [
       "14.0"
      ]
     },
     "execution_count": 5,
     "metadata": {},
     "output_type": "execute_result"
    }
   ],
   "source": [
    "quickselect(series, 250)"
   ]
  },
  {
   "cell_type": "code",
   "execution_count": 6,
   "metadata": {
    "collapsed": true
   },
   "outputs": [],
   "source": [
    "def median(series):\n",
    "    if len(series) % 2 != 0:\n",
    "        return quickselect(series, len(series)//2)\n",
    "    else:\n",
    "        left  = quickselect(series, (len(series)-1) // 2)\n",
    "        right = quickselect(series, (len(series)+1) // 2)\n",
    "        return (left + right) / 2"
   ]
  },
  {
   "cell_type": "code",
   "execution_count": 7,
   "metadata": {
    "collapsed": false
   },
   "outputs": [
    {
     "data": {
      "text/plain": [
       "14.0"
      ]
     },
     "execution_count": 7,
     "metadata": {},
     "output_type": "execute_result"
    }
   ],
   "source": [
    "median(series)"
   ]
  },
  {
   "cell_type": "markdown",
   "metadata": {},
   "source": [
    "### MonteCarlo simulation"
   ]
  },
  {
   "cell_type": "code",
   "execution_count": 8,
   "metadata": {
    "collapsed": true
   },
   "outputs": [],
   "source": [
    "def quickselect(series, k, counter=0):\n",
    "    pivot = choice(series)\n",
    "\n",
    "    left, right = list(),list()\n",
    "    for item in series:\n",
    "        if item < pivot: \n",
    "            left.append(item)\n",
    "        if item > pivot:\n",
    "            right.append(item)\n",
    "    \n",
    "    counter += len(series)\n",
    "            \n",
    "    length_left = len(left)\n",
    "    if length_left > k:\n",
    "        return quickselect(left, k, counter)\n",
    "    k -= length_left\n",
    "\n",
    "    duplicates = series.count(pivot)\n",
    "    if duplicates > k:\n",
    "        return float(pivot), counter\n",
    "    k -= duplicates\n",
    "    \n",
    "    return quickselect(right, k, counter)"
   ]
  },
  {
   "cell_type": "code",
   "execution_count": 9,
   "metadata": {
    "collapsed": false
   },
   "outputs": [
    {
     "name": "stdout",
     "output_type": "stream",
     "text": [
      "Mean operations: 2764\n"
     ]
    }
   ],
   "source": [
    "results = list()\n",
    "for run in range(1000):\n",
    "    n = 1001\n",
    "    series = [randint(1,25) for i in range(n)]\n",
    "    median,count = quickselect(series, n//2)\n",
    "    assert(median==np.median(series))\n",
    "    results.append(count)\n",
    "\n",
    "print (\"Mean operations: %i\" % np.mean(results))"
   ]
  },
  {
   "cell_type": "code",
   "execution_count": 10,
   "metadata": {
    "collapsed": false
   },
   "outputs": [],
   "source": [
    "import matplotlib.pyplot as plt"
   ]
  },
  {
   "cell_type": "code",
   "execution_count": 11,
   "metadata": {
    "collapsed": true
   },
   "outputs": [],
   "source": [
    "%matplotlib inline"
   ]
  },
  {
   "cell_type": "code",
   "execution_count": 12,
   "metadata": {
    "collapsed": false
   },
   "outputs": [
    {
     "data": {
      "image/png": "[encoded data removed]",
      "text/plain": [
       "<matplotlib.figure.Figure at 0x7c7d710>"
      ]
     },
     "metadata": {},
     "output_type": "display_data"
    }
   ],
   "source": [
    "plt.hist(results, bins='auto')\n",
    "plt.xlabel(\"Computations\")\n",
    "plt.ylabel(\"Frequency\")\n",
    "plt.show()"
   ]
  },
  {
   "cell_type": "code",
   "execution_count": 13,
   "metadata": {
    "collapsed": false
   },
   "outputs": [],
   "source": [
    "input_size = [501, 1001, 5001, 10001, 20001, 50001]\n",
    "computations = list()\n",
    "for n in input_size:\n",
    "    results = list()\n",
    "    for run in range(1000):\n",
    "        series = [randint(1, 25) for i in range(n)]\n",
    "        median,count = quickselect(series, n//2)\n",
    "        assert(median==np.median(series))\n",
    "        results.append(count)\n",
    "    computations.append(np.mean(results))"
   ]
  },
  {
   "cell_type": "code",
   "execution_count": 14,
   "metadata": {
    "collapsed": false
   },
   "outputs": [
    {
     "data": {
      "image/png": "[encoded data removed]",
      "text/plain": [
       "<matplotlib.figure.Figure at 0x7e81908>"
      ]
     },
     "metadata": {},
     "output_type": "display_data"
    }
   ],
   "source": [
    "plt.plot(input_size, computations, '-o')\n",
    "plt.xlabel(\"Input size\")\n",
    "plt.ylabel(\"Number of computations\")\n",
    "plt.show()"
   ]
  },
  {
   "cell_type": "markdown",
   "metadata": {},
   "source": [
    "### Quicksort"
   ]
  },
  {
   "cell_type": "code",
   "execution_count": 15,
   "metadata": {
    "collapsed": true
   },
   "outputs": [],
   "source": [
    "def choose_leftmost(l): return l[0]"
   ]
  },
  {
   "cell_type": "code",
   "execution_count": 16,
   "metadata": {
    "collapsed": false
   },
   "outputs": [],
   "source": [
    "def quicksort(series, get):\n",
    "    \n",
    "    try:\n",
    "        global operations\n",
    "        operations += len(series)\n",
    "    except:pass\n",
    "        \n",
    "    if len(series) <= 3:\n",
    "        return sorted(series)\n",
    "    \n",
    "    pivot = get(series)\n",
    "    duplicates = series.count(pivot)\n",
    "    \n",
    "    left, right = list(),list()\n",
    "    for item in series:\n",
    "        if item < pivot: \n",
    "            left.append(item)\n",
    "        if item > pivot:\n",
    "            right.append(item)\n",
    "            \n",
    "    return quicksort(left, get) + [pivot\n",
    "            ] * duplicates + quicksort(right, get)"
   ]
  },
  {
   "cell_type": "code",
   "execution_count": 17,
   "metadata": {
    "collapsed": false
   },
   "outputs": [
    {
     "name": "stdout",
     "output_type": "stream",
     "text": [
      "Operations: 322\n"
     ]
    }
   ],
   "source": [
    "series = list(range(25))\n",
    "operations = 0\n",
    "sorted_list = quicksort(series, choose_leftmost)\n",
    "print (\"Operations: %i\" % operations)"
   ]
  },
  {
   "cell_type": "code",
   "execution_count": 18,
   "metadata": {
    "collapsed": true
   },
   "outputs": [],
   "source": [
    "def choose_random(l): return choice(l) "
   ]
  },
  {
   "cell_type": "code",
   "execution_count": 19,
   "metadata": {
    "collapsed": false
   },
   "outputs": [
    {
     "name": "stdout",
     "output_type": "stream",
     "text": [
      "Operations: 81\n"
     ]
    }
   ],
   "source": [
    "series = [randint(1,25) for i in range(25)]\n",
    "operations = 0\n",
    "sorted_list = quicksort(series, choose_random)\n",
    "print (\"Operations: %i\" % operations)"
   ]
  },
  {
   "cell_type": "code",
   "execution_count": 20,
   "metadata": {
    "collapsed": false
   },
   "outputs": [
    {
     "data": {
      "text/plain": [
       "80.471895621705016"
      ]
     },
     "execution_count": 20,
     "metadata": {},
     "output_type": "execute_result"
    }
   ],
   "source": [
    "np.log(25) * 25"
   ]
  }
 ],
 "metadata": {
  "anaconda-cloud": {},
  "kernelspec": {
   "display_name": "Python [default]",
   "language": "python",
   "name": "python3"
  },
  "language_info": {
   "codemirror_mode": {
    "name": "ipython",
    "version": 3
   },
   "file_extension": ".py",
   "mimetype": "text/x-python",
   "name": "python",
   "nbconvert_exporter": "python",
   "pygments_lexer": "ipython3",
   "version": "3.4.5"
  }
 },
 "nbformat": 4,
 "nbformat_minor": 1
}
