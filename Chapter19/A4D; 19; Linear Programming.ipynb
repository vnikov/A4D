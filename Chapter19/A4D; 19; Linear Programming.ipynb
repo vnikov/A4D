{
 "cells": [
  {
   "cell_type": "markdown",
   "metadata": {},
   "source": [
    "# Optimizing production and revenue by simplex"
   ]
  },
  {
   "cell_type": "markdown",
   "metadata": {},
   "source": [
    "### loading packages"
   ]
  },
  {
   "cell_type": "code",
   "execution_count": 1,
   "metadata": {
    "collapsed": false
   },
   "outputs": [],
   "source": [
    "import numpy as np\n",
    "import matplotlib.pyplot as plt\n",
    "import pulp"
   ]
  },
  {
   "cell_type": "code",
   "execution_count": 2,
   "metadata": {
    "collapsed": true
   },
   "outputs": [],
   "source": [
    "%matplotlib inline"
   ]
  },
  {
   "cell_type": "markdown",
   "metadata": {},
   "source": [
    "### Defining you problem"
   ]
  },
  {
   "cell_type": "code",
   "execution_count": 3,
   "metadata": {
    "collapsed": false
   },
   "outputs": [],
   "source": [
    "res_1 = {'A':2, 'B':3, 't':30, 'n':2}\n",
    "res_2 = {'A':3, 'B':2, 't':30, 'n':2}\n",
    "res_3 = {'A':3, 'B':3, 't':22, 'n':3}\n",
    "res = {'res_1':res_1, 'res_2':res_2, 'res_3':res_3}\n",
    "profit_A = 3000\n",
    "profit_B = 2500"
   ]
  },
  {
   "cell_type": "code",
   "execution_count": 4,
   "metadata": {
    "collapsed": false
   },
   "outputs": [
    {
     "data": {
      "image/png": "[encoded data removed]",
      "text/plain": [
       "<matplotlib.figure.Figure at 0x7872048>"
      ]
     },
     "metadata": {},
     "output_type": "display_data"
    }
   ],
   "source": [
    "a = np.linspace(0, 30, 30)\n",
    "c1 = ((res['res_1']['t'] * res['res_1']['n'])-\n",
    "      res['res_1']['A']*a) / res['res_1']['B']\n",
    "c2 = ((res['res_2']['t'] * res['res_2']['n'])-\n",
    "      res['res_2']['A']*a) / res['res_2']['B']\n",
    "c3 = ((res['res_3']['t'] * res['res_3']['n'])-\n",
    "      res['res_3']['A']*a) / res['res_3']['B']\n",
    "\n",
    "plt.plot(a, c1, label='constrain #1')\n",
    "plt.plot(a, c2, label='constrain #2')\n",
    "plt.plot(a, c3, label='constrain #3')\n",
    "\n",
    "axes = plt.gca()\n",
    "axes.set_xlim([0,30])\n",
    "axes.set_ylim([0,30])\n",
    "plt.xlabel('qty model A')\n",
    "plt.ylabel('qty model B')\n",
    "\n",
    "border = np.array((c1,c2,c3)).min(axis=0)\n",
    "\n",
    "plt.fill_between(a, border, color='yellow', alpha=0.5)\n",
    "plt.scatter(*zip(*[(0,0), (20,0), \n",
    "                   (0,20), (16,6), (6,16)]))\n",
    "plt.legend()\n",
    "plt.show()"
   ]
  },
  {
   "cell_type": "code",
   "execution_count": 5,
   "metadata": {
    "collapsed": true
   },
   "outputs": [],
   "source": [
    "model = pulp.LpProblem(\"Max profit\", pulp.LpMaximize)\n",
    "A = pulp.LpVariable('A', lowBound=0)\n",
    "B = pulp.LpVariable('B', lowBound=0)"
   ]
  },
  {
   "cell_type": "code",
   "execution_count": 6,
   "metadata": {
    "collapsed": true
   },
   "outputs": [],
   "source": [
    "model += profit_A * A + profit_B * B"
   ]
  },
  {
   "cell_type": "code",
   "execution_count": 7,
   "metadata": {
    "collapsed": false
   },
   "outputs": [],
   "source": [
    "model += res['res_1']['A'] * A + res['res_1']['B'\n",
    "            ] * B <= res['res_1']['t'] * res['res_1']['n']\n",
    "model += res['res_2']['A'] * A + res['res_2']['B'\n",
    "            ] * B <= res['res_2']['t'] * res['res_2']['n']\n",
    "model += res['res_3']['A'] * A + res['res_3']['B'\n",
    "            ] * B <= res['res_3']['t'] * res['res_3']['n']"
   ]
  },
  {
   "cell_type": "code",
   "execution_count": 8,
   "metadata": {
    "collapsed": false
   },
   "outputs": [
    {
     "name": "stdout",
     "output_type": "stream",
     "text": [
      "Completion status: Optimal\n"
     ]
    }
   ],
   "source": [
    "model.solve()\n",
    "print ('Completion status: %s' \n",
    "       % pulp.LpStatus[model.status])"
   ]
  },
  {
   "cell_type": "code",
   "execution_count": 9,
   "metadata": {
    "collapsed": false
   },
   "outputs": [
    {
     "name": "stdout",
     "output_type": "stream",
     "text": [
      "Production of model A = 16.0\n",
      "Production of model B = 6.0\n"
     ]
    }
   ],
   "source": [
    "print (\"Production of model A = %0.1f\" % A.varValue)\n",
    "print (\"Production of model B = %0.1f\" % B.varValue)"
   ]
  },
  {
   "cell_type": "code",
   "execution_count": 10,
   "metadata": {
    "collapsed": false
   },
   "outputs": [
    {
     "name": "stdout",
     "output_type": "stream",
     "text": [
      "Maximum profit achieved: 63000.0\n"
     ]
    }
   ],
   "source": [
    "print ('Maximum profit achieved: %0.1f' \n",
    "       % pulp.value(model.objective))"
   ]
  },
  {
   "cell_type": "code",
   "execution_count": null,
   "metadata": {
    "collapsed": true
   },
   "outputs": [],
   "source": []
  }
 ],
 "metadata": {
  "anaconda-cloud": {},
  "kernelspec": {
   "display_name": "Python [default]",
   "language": "python",
   "name": "python3"
  },
  "language_info": {
   "codemirror_mode": {
    "name": "ipython",
    "version": 3
   },
   "file_extension": ".py",
   "mimetype": "text/x-python",
   "name": "python",
   "nbconvert_exporter": "python",
   "pygments_lexer": "ipython3",
   "version": "3.5.2"
  }
 },
 "nbformat": 4,
 "nbformat_minor": 1
}
