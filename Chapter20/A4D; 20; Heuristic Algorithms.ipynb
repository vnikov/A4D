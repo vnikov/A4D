{
 "cells": [
  {
   "cell_type": "markdown",
   "metadata": {},
   "source": [
    "## Heuristics for routing in graphs"
   ]
  },
  {
   "cell_type": "code",
   "execution_count": 1,
   "metadata": {
    "collapsed": true
   },
   "outputs": [],
   "source": [
    "import numpy as np\n",
    "import string\n",
    "import networkx as nx\n",
    "import matplotlib.pyplot as plt\n",
    "%matplotlib inline"
   ]
  },
  {
   "cell_type": "code",
   "execution_count": 2,
   "metadata": {
    "collapsed": false
   },
   "outputs": [],
   "source": [
    "def euclidean_dist(a, b, coord):\n",
    "    (x1, y1) = coord[a]\n",
    "    (x2, y2) = coord[b]\n",
    "    return np.sqrt((x1-x2)**2+(y1-y2)**2)\n",
    "\n",
    "def manhattan_dist(a, b, coord):\n",
    "    (x1, y1) = coord[a]\n",
    "    (x2, y2) = coord[b]\n",
    "    return abs(x1 - x2) + abs(y1 - y2)\n",
    "\n",
    "def non_informative(a,b):\n",
    "    return 0"
   ]
  },
  {
   "cell_type": "code",
   "execution_count": 3,
   "metadata": {
    "collapsed": false
   },
   "outputs": [],
   "source": [
    "def create_maze(seed=2, drawing=True):\n",
    "    np.random.seed(seed)\n",
    "    letters = [l for l in string.ascii_uppercase[:25]]\n",
    "    checkboard = np.array(letters[:25]).reshape((5,5))\n",
    "    Graph = nx.Graph()\n",
    "    for j, node in enumerate(letters):\n",
    "        Graph.add_nodes_from(node)\n",
    "        x, y = j // 5, j % 5\n",
    "        x_min = max(0, x-1)\n",
    "        x_max = min(4, x+1)+1\n",
    "        y_min = max(0, y-1)\n",
    "        y_max = min(4, y+1)+1\n",
    "        adjacent_nodes = np.ravel(\n",
    "            checkboard[x_min:x_max,y_min:y_max])\n",
    "        exits = np.random.choice(adjacent_nodes, \n",
    "            size=np.random.randint(1,4), replace=False)\n",
    "        for exit in exits:\n",
    "            if exit not in Graph.edge[node]:\n",
    "                Graph.add_edge(node, exit)\n",
    "    spacing = np.arange(0.0, 1.0, 0.2)\n",
    "    coordinates = [[x,y] for x in spacing \\\n",
    "                   for y in spacing]\n",
    "    position  = {l:c for l,c in zip(letters, coordinates)}\n",
    "    \n",
    "    for node in Graph.edge:\n",
    "        for exit in Graph.edge[node]:\n",
    "            length = int(round(\n",
    "                    euclidean_dist(\n",
    "                        node, exit, position)*10,0))\n",
    "            Graph.add_edge(node,exit,weight=length)\n",
    "                \n",
    "    if drawing:\n",
    "        nx.draw(Graph, position, with_labels=True)\n",
    "        labels = nx.get_edge_attributes(Graph,'weight')\n",
    "        nx.draw_networkx_edge_labels(Graph, position, \n",
    "                                     edge_labels=labels)\n",
    "        plt.show()\n",
    "    \n",
    "    return Graph, position "
   ]
  },
  {
   "cell_type": "code",
   "execution_count": 4,
   "metadata": {
    "collapsed": false
   },
   "outputs": [
    {
     "data": {
      "image/png": "[encoded data removed]",
      "text/plain": [
       "<matplotlib.figure.Figure at 0x48f4fd0>"
      ]
     },
     "metadata": {},
     "output_type": "display_data"
    }
   ],
   "source": [
    "graph, coordinates = create_maze(seed=3)"
   ]
  },
  {
   "cell_type": "code",
   "execution_count": 5,
   "metadata": {
    "collapsed": true
   },
   "outputs": [],
   "source": [
    "def graph_weight(graph, a, b):\n",
    "    return graph.edge[a][b]['weight']\n",
    "\n",
    "def node_neighbors(graph, node):\n",
    "    return graph.edge[node]"
   ]
  },
  {
   "cell_type": "code",
   "execution_count": 6,
   "metadata": {
    "collapsed": true
   },
   "outputs": [],
   "source": [
    "def reconstruct_path(connections, start, goal):\n",
    "    if goal in connections:\n",
    "        current = goal\n",
    "        path = [current]\n",
    "        while current != start:\n",
    "            current = connections[current]\n",
    "            path.append(current)\n",
    "        return path[::-1]\n",
    "\n",
    "def compute_path_dist(path, graph):\n",
    "    if path:\n",
    "        run = 0\n",
    "        for step in range(len(path)-1):\n",
    "            A = path[step]\n",
    "            B = path[step+1]\n",
    "            run += graph_weight(graph, A, B)\n",
    "        return run\n",
    "    else:\n",
    "        return 0"
   ]
  },
  {
   "cell_type": "code",
   "execution_count": 7,
   "metadata": {
    "collapsed": false
   },
   "outputs": [
    {
     "data": {
      "image/png": "[encoded data removed]",
      "text/plain": [
       "<matplotlib.figure.Figure at 0x8a57400>"
      ]
     },
     "metadata": {},
     "output_type": "display_data"
    }
   ],
   "source": [
    "graph, coordinates = create_maze(seed=30)\n",
    "start = 'A'\n",
    "goal  = 'Y'\n",
    "scoring=manhattan_dist"
   ]
  },
  {
   "cell_type": "code",
   "execution_count": 8,
   "metadata": {
    "collapsed": false
   },
   "outputs": [
    {
     "name": "stdout",
     "output_type": "stream",
     "text": [
      "Processing vertex A, discovered ['G', 'F']\n",
      "Processing vertex G, discovered ['H', 'K']\n",
      "Processing vertex H, discovered ['B', 'D']\n",
      "Processing vertex D, discovered ['C', 'E', 'J']\n",
      "Processing vertex J, discovered ['I', 'O', 'N']\n",
      "Processing vertex O, found no exit, retracing to J\n",
      "Processing vertex N, discovered ['R']\n",
      "Processing vertex R, discovered ['X', 'M']\n",
      "Processing vertex X, discovered ['W', 'Y', 'T']\n",
      "Arrived at final vertex Y\n",
      "Unvisited vertices: 15\n",
      "\n",
      "Best path is: ['A', 'G', 'H', 'D', 'J', 'N', 'R', 'X', 'Y']\n",
      "Length of path: 22\n"
     ]
    }
   ],
   "source": [
    "# Best-first search\n",
    "path = {}\n",
    "open_list = set(graph.nodes())\n",
    "closed_list = {start: manhattan_dist(start, goal, \n",
    "                                     coordinates)}\n",
    "\n",
    "while open_list:\n",
    "    \n",
    "    candidates = open_list&closed_list.keys()\n",
    "    if len(candidates)==0:\n",
    "        print (\"Cannot find a way to the goal %s\" % goal)\n",
    "        break\n",
    "    frontier = [(closed_list[node], \n",
    "                 node) for node in candidates]\n",
    "    score, min_node =sorted(frontier)[0]\n",
    "\n",
    "    if min_node==goal:\n",
    "        print (\"Arrived at final vertex %s\" % goal)\n",
    "        print ('Unvisited vertices: %i' % (len(\n",
    "                    open_list)-1))\n",
    "        break\n",
    "    else:\n",
    "        print(\"Processing vertex %s, \" % min_node, end=\"\")\n",
    "\n",
    "    open_list = open_list.difference(min_node)\n",
    "    neighbors = node_neighbors(graph, min_node)\n",
    "    to_be_visited = list(neighbors-closed_list.keys())\n",
    "    \n",
    "    if len(to_be_visited) == 0:\n",
    "        print (\"found no exit, retracing to %s\" \n",
    "               % path[min_node])\n",
    "    else:\n",
    "        print (\"discovered %s\" % str(to_be_visited))\n",
    "\n",
    "    for node in neighbors:\n",
    "        if node not in closed_list:\n",
    "            closed_list[node] = scoring(node, goal, \n",
    "                                        coordinates)\n",
    "            path[node] = min_node\n",
    "\n",
    "print ('\\nBest path is:', reconstruct_path(\n",
    "        path, start, goal))\n",
    "print ('Length of path: %i' % compute_path_dist(\n",
    "        reconstruct_path(path, start, goal), graph))"
   ]
  },
  {
   "cell_type": "code",
   "execution_count": 9,
   "metadata": {
    "collapsed": false
   },
   "outputs": [
    {
     "name": "stdout",
     "output_type": "stream",
     "text": [
      "Processing vertex A, discovered ['G', 'F']\n",
      "Processing vertex F, discovered ['B', 'K']\n",
      "Processing vertex G, discovered ['H']\n",
      "Processing vertex K, discovered ['P', 'Q']\n",
      "Processing vertex H, discovered ['D']\n",
      "Processing vertex B, discovered ['C']\n",
      "Processing vertex P, discovered ['L', 'V', 'U']\n",
      "Processing vertex Q, discovered ['W', 'M']\n",
      "Processing vertex C, getting back to open list\n",
      "Processing vertex U, getting back to open list\n",
      "Processing vertex D, discovered ['E', 'J']\n",
      "Processing vertex V, getting back to open list\n",
      "Processing vertex L, getting back to open list\n",
      "Processing vertex W, discovered ['X']\n",
      "Processing vertex E, getting back to open list\n",
      "Processing vertex M, discovered ['R']\n",
      "Processing vertex J, discovered ['I', 'O', 'N']\n",
      "Processing vertex X, discovered ['T', 'Y']\n",
      "Processing vertex R, getting back to open list\n",
      "Processing vertex O, getting back to open list\n",
      "Processing vertex I, getting back to open list\n",
      "Arrived at final vertex Y\n",
      "Unvisited vertices: 3\n",
      "\n",
      "Best path is: ['A', 'F', 'K', 'Q', 'W', 'X', 'Y']\n",
      "Length of path: 14\n"
     ]
    }
   ],
   "source": [
    "# A* \n",
    "open_list = set(graph.nodes())\n",
    "closed_list = {start: manhattan_dist(\n",
    "        start, goal, coordinates)}\n",
    "visited = {start: 0}\n",
    "path = {}\n",
    "\n",
    "while open_list:\n",
    "    \n",
    "    candidates = open_list&closed_list.keys()\n",
    "    if len(candidates)==0:\n",
    "        print (\"Cannot find a way to the goal %s\" % goal)\n",
    "        break\n",
    "    frontier = [(closed_list[node], \n",
    "                 node) for node in candidates]\n",
    "    score, min_node =sorted(frontier)[0]\n",
    "\n",
    "    if min_node==goal:\n",
    "        print (\"Arrived at final vertex %s\" % goal)\n",
    "        print ('Unvisited vertices: %i' % (len(\n",
    "                open_list)-1))\n",
    "        break\n",
    "    else:\n",
    "        print(\"Processing vertex %s, \" % min_node, end=\"\")\n",
    "\n",
    "    open_list = open_list.difference(min_node)\n",
    "    current_weight = visited[min_node]\n",
    "    neighbors = node_neighbors(graph, min_node)\n",
    "    to_be_visited = list(neighbors-visited.keys())\n",
    "        \n",
    "    for node in neighbors:\n",
    "        new_weight = current_weight + graph_weight(\n",
    "                     graph, min_node, node)\n",
    "        if node not in visited or \\\n",
    "        new_weight < visited[node]:\n",
    "            visited[node] = new_weight\n",
    "            closed_list[node] = manhattan_dist(node, goal,\n",
    "                        coordinates) + new_weight\n",
    "            path[node] = min_node\n",
    "    \n",
    "    if to_be_visited:\n",
    "        print (\"discovered %s\" % to_be_visited)\n",
    "    else:\n",
    "        print (\"getting back to open list\")\n",
    "\n",
    "print ('\\nBest path is:', reconstruct_path(\n",
    "        path, start, goal))\n",
    "print ('Length of path: %i' % compute_path_dist(\n",
    "        reconstruct_path(path, start, goal), graph))"
   ]
  },
  {
   "cell_type": "code",
   "execution_count": null,
   "metadata": {
    "collapsed": true
   },
   "outputs": [],
   "source": []
  }
 ],
 "metadata": {
  "anaconda-cloud": {},
  "kernelspec": {
   "display_name": "Python [default]",
   "language": "python",
   "name": "python3"
  },
  "language_info": {
   "codemirror_mode": {
    "name": "ipython",
    "version": 3
   },
   "file_extension": ".py",
   "mimetype": "text/x-python",
   "name": "python",
   "nbconvert_exporter": "python",
   "pygments_lexer": "ipython3",
   "version": "3.5.2"
  }
 },
 "nbformat": 4,
 "nbformat_minor": 0
}
